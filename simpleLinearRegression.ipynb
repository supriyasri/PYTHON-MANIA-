{
  "nbformat": 4,
  "nbformat_minor": 0,
  "metadata": {
    "colab": {
      "name": "simpleLR.ipynb",
      "version": "0.3.2",
      "provenance": [],
      "include_colab_link": true
    },
    "language_info": {
      "codemirror_mode": {
        "name": "ipython",
        "version": 3
      },
      "file_extension": ".py",
      "mimetype": "text/x-python",
      "name": "python",
      "nbconvert_exporter": "python",
      "pygments_lexer": "ipython3",
      "version": "3.7.3"
    },
    "kernelspec": {
      "display_name": "Python 3",
      "language": "python",
      "name": "python3"
    }
  },
  "cells": [
    {
      "cell_type": "markdown",
      "metadata": {
        "id": "view-in-github",
        "colab_type": "text"
      },
      "source": [
        "<a href=\"https://colab.research.google.com/github/supriyasri/PYTHON-MANIA-/blob/master/simpleLinearRegression.ipynb\" target=\"_parent\"><img src=\"https://colab.research.google.com/assets/colab-badge.svg\" alt=\"Open In Colab\"/></a>"
      ]
    },
    {
      "cell_type": "code",
      "metadata": {
        "id": "i5N3hI9oynAo",
        "colab_type": "code",
        "colab": {}
      },
      "source": [
        "import warnings\n",
        "warnings.filterwarnings('ignore')"
      ],
      "execution_count": 0,
      "outputs": []
    },
    {
      "cell_type": "code",
      "metadata": {
        "id": "NzkkUL8LynAx",
        "colab_type": "code",
        "colab": {}
      },
      "source": [
        "import numpy\n",
        "import pandas\n",
        "import sklearn\n",
        "import seaborn\n",
        "import matplotlib.pyplot as plt\n",
        "%matplotlib inline     "
      ],
      "execution_count": 0,
      "outputs": []
    },
    {
      "cell_type": "code",
      "metadata": {
        "id": "ssaFZIRtynA1",
        "colab_type": "code",
        "colab": {}
      },
      "source": [
        "from sklearn import datasets, linear_model                     # predefined functions are imported here \n",
        "from sklearn.linear_model import LinearRegression,Ridge,Lasso  #output is numeric-go with regression\n",
        "from sklearn.model_selection import train_test_split\n",
        "from sklearn.metrics import mean_squared_error, r2_score      # r2 is the difference between predicted and actual one\n",
        "from sklearn.datasets import load_boston       \n",
        "from sklearn.neighbors import KNeighborsRegressor\n",
        "from sklearn.kernel_ridge import KernelRidge"
      ],
      "execution_count": 0,
      "outputs": []
    },
    {
      "cell_type": "code",
      "metadata": {
        "id": "5dfdcABJynA5",
        "colab_type": "code",
        "colab": {},
        "outputId": "5ed26476-3a35-4f71-ea4f-4df588e05610"
      },
      "source": [
        "a=pandas.read_csv('C:\\\\Users\\HP\\Data Science\\Pandas\\india_climate6.csv')\n",
        "a"
      ],
      "execution_count": 0,
      "outputs": [
        {
          "output_type": "execute_result",
          "data": {
            "text/html": [
              "<div>\n",
              "<style scoped>\n",
              "    .dataframe tbody tr th:only-of-type {\n",
              "        vertical-align: middle;\n",
              "    }\n",
              "\n",
              "    .dataframe tbody tr th {\n",
              "        vertical-align: top;\n",
              "    }\n",
              "\n",
              "    .dataframe thead th {\n",
              "        text-align: right;\n",
              "    }\n",
              "</style>\n",
              "<table border=\"1\" class=\"dataframe\">\n",
              "  <thead>\n",
              "    <tr style=\"text-align: right;\">\n",
              "      <th></th>\n",
              "      <th>date</th>\n",
              "      <th>temperature</th>\n",
              "      <th>windspeed</th>\n",
              "      <th>event</th>\n",
              "    </tr>\n",
              "  </thead>\n",
              "  <tbody>\n",
              "    <tr>\n",
              "      <th>0</th>\n",
              "      <td>1/1/2019</td>\n",
              "      <td>32c</td>\n",
              "      <td>6mph</td>\n",
              "      <td>Rainy</td>\n",
              "    </tr>\n",
              "    <tr>\n",
              "      <th>1</th>\n",
              "      <td>1/2/2019</td>\n",
              "      <td>-99999</td>\n",
              "      <td>7</td>\n",
              "      <td>Sunny</td>\n",
              "    </tr>\n",
              "    <tr>\n",
              "      <th>2</th>\n",
              "      <td>1/3/2019</td>\n",
              "      <td>26</td>\n",
              "      <td>-99999</td>\n",
              "      <td>No event</td>\n",
              "    </tr>\n",
              "    <tr>\n",
              "      <th>3</th>\n",
              "      <td>1/4/2019</td>\n",
              "      <td>38f</td>\n",
              "      <td>5</td>\n",
              "      <td>Sunny</td>\n",
              "    </tr>\n",
              "    <tr>\n",
              "      <th>4</th>\n",
              "      <td>1/5/2019</td>\n",
              "      <td>-88888</td>\n",
              "      <td>-99999</td>\n",
              "      <td>Snow</td>\n",
              "    </tr>\n",
              "    <tr>\n",
              "      <th>5</th>\n",
              "      <td>1/6/2019</td>\n",
              "      <td>20</td>\n",
              "      <td>4</td>\n",
              "      <td>No event</td>\n",
              "    </tr>\n",
              "    <tr>\n",
              "      <th>6</th>\n",
              "      <td>1/7/2019</td>\n",
              "      <td>34</td>\n",
              "      <td>8</td>\n",
              "      <td>Sunny</td>\n",
              "    </tr>\n",
              "  </tbody>\n",
              "</table>\n",
              "</div>"
            ],
            "text/plain": [
              "       date temperature windspeed     event\n",
              "0  1/1/2019         32c      6mph     Rainy\n",
              "1  1/2/2019      -99999         7     Sunny\n",
              "2  1/3/2019          26    -99999  No event\n",
              "3  1/4/2019         38f         5     Sunny\n",
              "4  1/5/2019      -88888    -99999      Snow\n",
              "5  1/6/2019          20         4  No event\n",
              "6  1/7/2019          34         8     Sunny"
            ]
          },
          "metadata": {
            "tags": []
          },
          "execution_count": 4
        }
      ]
    },
    {
      "cell_type": "code",
      "metadata": {
        "id": "2QrND1_KynBC",
        "colab_type": "code",
        "colab": {},
        "outputId": "b7da8cf5-3778-44ca-cedb-4aaa65bf2e87"
      },
      "source": [
        "regression_data = pandas.read_csv('C:\\\\Users\\HP\\Data Science\\Pandas\\simpleLR.csv')\n",
        "regression_data"
      ],
      "execution_count": 0,
      "outputs": [
        {
          "output_type": "execute_result",
          "data": {
            "text/html": [
              "<div>\n",
              "<style scoped>\n",
              "    .dataframe tbody tr th:only-of-type {\n",
              "        vertical-align: middle;\n",
              "    }\n",
              "\n",
              "    .dataframe tbody tr th {\n",
              "        vertical-align: top;\n",
              "    }\n",
              "\n",
              "    .dataframe thead th {\n",
              "        text-align: right;\n",
              "    }\n",
              "</style>\n",
              "<table border=\"1\" class=\"dataframe\">\n",
              "  <thead>\n",
              "    <tr style=\"text-align: right;\">\n",
              "      <th></th>\n",
              "      <th>Volume</th>\n",
              "      <th>Price</th>\n",
              "    </tr>\n",
              "  </thead>\n",
              "  <tbody>\n",
              "    <tr>\n",
              "      <th>0</th>\n",
              "      <td>4.690628</td>\n",
              "      <td>27.000389</td>\n",
              "    </tr>\n",
              "    <tr>\n",
              "      <th>1</th>\n",
              "      <td>4.235716</td>\n",
              "      <td>24.925126</td>\n",
              "    </tr>\n",
              "    <tr>\n",
              "      <th>2</th>\n",
              "      <td>4.626838</td>\n",
              "      <td>20.931068</td>\n",
              "    </tr>\n",
              "    <tr>\n",
              "      <th>3</th>\n",
              "      <td>6.166307</td>\n",
              "      <td>31.296321</td>\n",
              "    </tr>\n",
              "    <tr>\n",
              "      <th>4</th>\n",
              "      <td>3.433759</td>\n",
              "      <td>17.315909</td>\n",
              "    </tr>\n",
              "    <tr>\n",
              "      <th>5</th>\n",
              "      <td>5.945953</td>\n",
              "      <td>34.816306</td>\n",
              "    </tr>\n",
              "    <tr>\n",
              "      <th>6</th>\n",
              "      <td>4.632415</td>\n",
              "      <td>15.999182</td>\n",
              "    </tr>\n",
              "    <tr>\n",
              "      <th>7</th>\n",
              "      <td>3.959437</td>\n",
              "      <td>25.061199</td>\n",
              "    </tr>\n",
              "    <tr>\n",
              "      <th>8</th>\n",
              "      <td>3.923685</td>\n",
              "      <td>23.585337</td>\n",
              "    </tr>\n",
              "    <tr>\n",
              "      <th>9</th>\n",
              "      <td>5.605697</td>\n",
              "      <td>31.889041</td>\n",
              "    </tr>\n",
              "    <tr>\n",
              "      <th>10</th>\n",
              "      <td>5.024371</td>\n",
              "      <td>28.839021</td>\n",
              "    </tr>\n",
              "    <tr>\n",
              "      <th>11</th>\n",
              "      <td>6.311335</td>\n",
              "      <td>33.309405</td>\n",
              "    </tr>\n",
              "    <tr>\n",
              "      <th>12</th>\n",
              "      <td>5.624021</td>\n",
              "      <td>26.414694</td>\n",
              "    </tr>\n",
              "    <tr>\n",
              "      <th>13</th>\n",
              "      <td>4.757615</td>\n",
              "      <td>23.465691</td>\n",
              "    </tr>\n",
              "    <tr>\n",
              "      <th>14</th>\n",
              "      <td>4.555681</td>\n",
              "      <td>29.506372</td>\n",
              "    </tr>\n",
              "    <tr>\n",
              "      <th>15</th>\n",
              "      <td>5.482831</td>\n",
              "      <td>29.000553</td>\n",
              "    </tr>\n",
              "    <tr>\n",
              "      <th>16</th>\n",
              "      <td>5.125223</td>\n",
              "      <td>32.743237</td>\n",
              "    </tr>\n",
              "    <tr>\n",
              "      <th>17</th>\n",
              "      <td>5.584617</td>\n",
              "      <td>22.750433</td>\n",
              "    </tr>\n",
              "    <tr>\n",
              "      <th>18</th>\n",
              "      <td>4.973456</td>\n",
              "      <td>31.542984</td>\n",
              "    </tr>\n",
              "    <tr>\n",
              "      <th>19</th>\n",
              "      <td>4.485034</td>\n",
              "      <td>19.528558</td>\n",
              "    </tr>\n",
              "    <tr>\n",
              "      <th>20</th>\n",
              "      <td>6.024008</td>\n",
              "      <td>30.748054</td>\n",
              "    </tr>\n",
              "    <tr>\n",
              "      <th>21</th>\n",
              "      <td>5.633822</td>\n",
              "      <td>25.724818</td>\n",
              "    </tr>\n",
              "    <tr>\n",
              "      <th>22</th>\n",
              "      <td>3.795697</td>\n",
              "      <td>19.212864</td>\n",
              "    </tr>\n",
              "    <tr>\n",
              "      <th>23</th>\n",
              "      <td>6.741004</td>\n",
              "      <td>35.755912</td>\n",
              "    </tr>\n",
              "    <tr>\n",
              "      <th>24</th>\n",
              "      <td>5.000100</td>\n",
              "      <td>23.575410</td>\n",
              "    </tr>\n",
              "    <tr>\n",
              "      <th>25</th>\n",
              "      <td>4.716795</td>\n",
              "      <td>20.722642</td>\n",
              "    </tr>\n",
              "    <tr>\n",
              "      <th>26</th>\n",
              "      <td>4.097800</td>\n",
              "      <td>15.583855</td>\n",
              "    </tr>\n",
              "    <tr>\n",
              "      <th>27</th>\n",
              "      <td>4.780381</td>\n",
              "      <td>29.670156</td>\n",
              "    </tr>\n",
              "    <tr>\n",
              "      <th>28</th>\n",
              "      <td>5.941811</td>\n",
              "      <td>27.443584</td>\n",
              "    </tr>\n",
              "    <tr>\n",
              "      <th>29</th>\n",
              "      <td>3.707646</td>\n",
              "      <td>12.758164</td>\n",
              "    </tr>\n",
              "    <tr>\n",
              "      <th>...</th>\n",
              "      <td>...</td>\n",
              "      <td>...</td>\n",
              "    </tr>\n",
              "    <tr>\n",
              "      <th>970</th>\n",
              "      <td>4.885200</td>\n",
              "      <td>26.465974</td>\n",
              "    </tr>\n",
              "    <tr>\n",
              "      <th>971</th>\n",
              "      <td>3.924166</td>\n",
              "      <td>23.546402</td>\n",
              "    </tr>\n",
              "    <tr>\n",
              "      <th>972</th>\n",
              "      <td>5.569783</td>\n",
              "      <td>25.067594</td>\n",
              "    </tr>\n",
              "    <tr>\n",
              "      <th>973</th>\n",
              "      <td>6.405940</td>\n",
              "      <td>31.201593</td>\n",
              "    </tr>\n",
              "    <tr>\n",
              "      <th>974</th>\n",
              "      <td>5.345812</td>\n",
              "      <td>27.718121</td>\n",
              "    </tr>\n",
              "    <tr>\n",
              "      <th>975</th>\n",
              "      <td>4.773919</td>\n",
              "      <td>26.663136</td>\n",
              "    </tr>\n",
              "    <tr>\n",
              "      <th>976</th>\n",
              "      <td>5.793803</td>\n",
              "      <td>28.056081</td>\n",
              "    </tr>\n",
              "    <tr>\n",
              "      <th>977</th>\n",
              "      <td>4.772750</td>\n",
              "      <td>26.356040</td>\n",
              "    </tr>\n",
              "    <tr>\n",
              "      <th>978</th>\n",
              "      <td>5.464655</td>\n",
              "      <td>27.935903</td>\n",
              "    </tr>\n",
              "    <tr>\n",
              "      <th>979</th>\n",
              "      <td>5.337272</td>\n",
              "      <td>25.710069</td>\n",
              "    </tr>\n",
              "    <tr>\n",
              "      <th>980</th>\n",
              "      <td>4.549867</td>\n",
              "      <td>20.999686</td>\n",
              "    </tr>\n",
              "    <tr>\n",
              "      <th>981</th>\n",
              "      <td>6.202381</td>\n",
              "      <td>35.233661</td>\n",
              "    </tr>\n",
              "    <tr>\n",
              "      <th>982</th>\n",
              "      <td>5.642195</td>\n",
              "      <td>28.034278</td>\n",
              "    </tr>\n",
              "    <tr>\n",
              "      <th>983</th>\n",
              "      <td>4.606881</td>\n",
              "      <td>22.415638</td>\n",
              "    </tr>\n",
              "    <tr>\n",
              "      <th>984</th>\n",
              "      <td>4.377395</td>\n",
              "      <td>22.202722</td>\n",
              "    </tr>\n",
              "    <tr>\n",
              "      <th>985</th>\n",
              "      <td>5.076088</td>\n",
              "      <td>20.670031</td>\n",
              "    </tr>\n",
              "    <tr>\n",
              "      <th>986</th>\n",
              "      <td>4.461883</td>\n",
              "      <td>21.022640</td>\n",
              "    </tr>\n",
              "    <tr>\n",
              "      <th>987</th>\n",
              "      <td>5.562429</td>\n",
              "      <td>23.849511</td>\n",
              "    </tr>\n",
              "    <tr>\n",
              "      <th>988</th>\n",
              "      <td>4.333091</td>\n",
              "      <td>20.984977</td>\n",
              "    </tr>\n",
              "    <tr>\n",
              "      <th>989</th>\n",
              "      <td>5.672096</td>\n",
              "      <td>29.070571</td>\n",
              "    </tr>\n",
              "    <tr>\n",
              "      <th>990</th>\n",
              "      <td>3.921809</td>\n",
              "      <td>17.834389</td>\n",
              "    </tr>\n",
              "    <tr>\n",
              "      <th>991</th>\n",
              "      <td>4.495731</td>\n",
              "      <td>23.035179</td>\n",
              "    </tr>\n",
              "    <tr>\n",
              "      <th>992</th>\n",
              "      <td>4.902263</td>\n",
              "      <td>26.320018</td>\n",
              "    </tr>\n",
              "    <tr>\n",
              "      <th>993</th>\n",
              "      <td>4.248800</td>\n",
              "      <td>24.655191</td>\n",
              "    </tr>\n",
              "    <tr>\n",
              "      <th>994</th>\n",
              "      <td>4.987601</td>\n",
              "      <td>27.783423</td>\n",
              "    </tr>\n",
              "    <tr>\n",
              "      <th>995</th>\n",
              "      <td>5.805687</td>\n",
              "      <td>29.248729</td>\n",
              "    </tr>\n",
              "    <tr>\n",
              "      <th>996</th>\n",
              "      <td>5.802771</td>\n",
              "      <td>29.742307</td>\n",
              "    </tr>\n",
              "    <tr>\n",
              "      <th>997</th>\n",
              "      <td>5.301941</td>\n",
              "      <td>28.735749</td>\n",
              "    </tr>\n",
              "    <tr>\n",
              "      <th>998</th>\n",
              "      <td>6.447623</td>\n",
              "      <td>28.086998</td>\n",
              "    </tr>\n",
              "    <tr>\n",
              "      <th>999</th>\n",
              "      <td>6.971938</td>\n",
              "      <td>37.107171</td>\n",
              "    </tr>\n",
              "  </tbody>\n",
              "</table>\n",
              "<p>1000 rows × 2 columns</p>\n",
              "</div>"
            ],
            "text/plain": [
              "       Volume      Price\n",
              "0    4.690628  27.000389\n",
              "1    4.235716  24.925126\n",
              "2    4.626838  20.931068\n",
              "3    6.166307  31.296321\n",
              "4    3.433759  17.315909\n",
              "5    5.945953  34.816306\n",
              "6    4.632415  15.999182\n",
              "7    3.959437  25.061199\n",
              "8    3.923685  23.585337\n",
              "9    5.605697  31.889041\n",
              "10   5.024371  28.839021\n",
              "11   6.311335  33.309405\n",
              "12   5.624021  26.414694\n",
              "13   4.757615  23.465691\n",
              "14   4.555681  29.506372\n",
              "15   5.482831  29.000553\n",
              "16   5.125223  32.743237\n",
              "17   5.584617  22.750433\n",
              "18   4.973456  31.542984\n",
              "19   4.485034  19.528558\n",
              "20   6.024008  30.748054\n",
              "21   5.633822  25.724818\n",
              "22   3.795697  19.212864\n",
              "23   6.741004  35.755912\n",
              "24   5.000100  23.575410\n",
              "25   4.716795  20.722642\n",
              "26   4.097800  15.583855\n",
              "27   4.780381  29.670156\n",
              "28   5.941811  27.443584\n",
              "29   3.707646  12.758164\n",
              "..        ...        ...\n",
              "970  4.885200  26.465974\n",
              "971  3.924166  23.546402\n",
              "972  5.569783  25.067594\n",
              "973  6.405940  31.201593\n",
              "974  5.345812  27.718121\n",
              "975  4.773919  26.663136\n",
              "976  5.793803  28.056081\n",
              "977  4.772750  26.356040\n",
              "978  5.464655  27.935903\n",
              "979  5.337272  25.710069\n",
              "980  4.549867  20.999686\n",
              "981  6.202381  35.233661\n",
              "982  5.642195  28.034278\n",
              "983  4.606881  22.415638\n",
              "984  4.377395  22.202722\n",
              "985  5.076088  20.670031\n",
              "986  4.461883  21.022640\n",
              "987  5.562429  23.849511\n",
              "988  4.333091  20.984977\n",
              "989  5.672096  29.070571\n",
              "990  3.921809  17.834389\n",
              "991  4.495731  23.035179\n",
              "992  4.902263  26.320018\n",
              "993  4.248800  24.655191\n",
              "994  4.987601  27.783423\n",
              "995  5.805687  29.248729\n",
              "996  5.802771  29.742307\n",
              "997  5.301941  28.735749\n",
              "998  6.447623  28.086998\n",
              "999  6.971938  37.107171\n",
              "\n",
              "[1000 rows x 2 columns]"
            ]
          },
          "metadata": {
            "tags": []
          },
          "execution_count": 5
        }
      ]
    },
    {
      "cell_type": "code",
      "metadata": {
        "id": "2eJX6HEuynBI",
        "colab_type": "code",
        "colab": {},
        "outputId": "327d71ef-1171-4b3a-d6ed-de8c19a8389a"
      },
      "source": [
        "regression_data.head()"
      ],
      "execution_count": 0,
      "outputs": [
        {
          "output_type": "execute_result",
          "data": {
            "text/html": [
              "<div>\n",
              "<style scoped>\n",
              "    .dataframe tbody tr th:only-of-type {\n",
              "        vertical-align: middle;\n",
              "    }\n",
              "\n",
              "    .dataframe tbody tr th {\n",
              "        vertical-align: top;\n",
              "    }\n",
              "\n",
              "    .dataframe thead th {\n",
              "        text-align: right;\n",
              "    }\n",
              "</style>\n",
              "<table border=\"1\" class=\"dataframe\">\n",
              "  <thead>\n",
              "    <tr style=\"text-align: right;\">\n",
              "      <th></th>\n",
              "      <th>Volume</th>\n",
              "      <th>Price</th>\n",
              "    </tr>\n",
              "  </thead>\n",
              "  <tbody>\n",
              "    <tr>\n",
              "      <th>0</th>\n",
              "      <td>4.690628</td>\n",
              "      <td>27.000389</td>\n",
              "    </tr>\n",
              "    <tr>\n",
              "      <th>1</th>\n",
              "      <td>4.235716</td>\n",
              "      <td>24.925126</td>\n",
              "    </tr>\n",
              "    <tr>\n",
              "      <th>2</th>\n",
              "      <td>4.626838</td>\n",
              "      <td>20.931068</td>\n",
              "    </tr>\n",
              "    <tr>\n",
              "      <th>3</th>\n",
              "      <td>6.166307</td>\n",
              "      <td>31.296321</td>\n",
              "    </tr>\n",
              "    <tr>\n",
              "      <th>4</th>\n",
              "      <td>3.433759</td>\n",
              "      <td>17.315909</td>\n",
              "    </tr>\n",
              "  </tbody>\n",
              "</table>\n",
              "</div>"
            ],
            "text/plain": [
              "     Volume      Price\n",
              "0  4.690628  27.000389\n",
              "1  4.235716  24.925126\n",
              "2  4.626838  20.931068\n",
              "3  6.166307  31.296321\n",
              "4  3.433759  17.315909"
            ]
          },
          "metadata": {
            "tags": []
          },
          "execution_count": 7
        }
      ]
    },
    {
      "cell_type": "code",
      "metadata": {
        "id": "LZxxJpXYynBN",
        "colab_type": "code",
        "colab": {},
        "outputId": "218fbd02-77cc-409f-8773-c83495d7186d"
      },
      "source": [
        "plt.scatter(regression_data['Volume'],regression_data['Price'])\n",
        "plt.xlabel('Volume')\n",
        "plt.ylabel('Price')\n",
        "plt.title('Price-Volume Data')"
      ],
      "execution_count": 0,
      "outputs": [
        {
          "output_type": "execute_result",
          "data": {
            "text/plain": [
              "Text(0.5, 1.0, 'Price-Volume Data')"
            ]
          },
          "metadata": {
            "tags": []
          },
          "execution_count": 9
        },
        {
          "output_type": "display_data",
          "data": {
            "image/png": "[encoded data removed]",
            "text/plain": [
              "<Figure size 432x288 with 1 Axes>"
            ]
          },
          "metadata": {
            "tags": [],
            "needs_background": "light"
          }
        }
      ]
    },
    {
      "cell_type": "code",
      "metadata": {
        "id": "ivrXMUgrynBT",
        "colab_type": "code",
        "colab": {}
      },
      "source": [
        "from pylab import rcParams\n",
        "rcParams['figure.figsize']=10,8\n",
        "\n",
        "\n"
      ],
      "execution_count": 0,
      "outputs": []
    },
    {
      "cell_type": "code",
      "metadata": {
        "id": "GIsEi3eEynBY",
        "colab_type": "code",
        "colab": {},
        "outputId": "01605a5b-aa4d-4720-9328-3e1960fe67bf"
      },
      "source": [
        "plt.scatter(regression_data['Volume'],regression_data['Price'])\n",
        "plt.xlabel('Volume')\n",
        "plt.ylabel('Price')\n",
        "plt.title('Price- Volume Data')"
      ],
      "execution_count": 0,
      "outputs": [
        {
          "output_type": "execute_result",
          "data": {
            "text/plain": [
              "Text(0.5, 1.0, 'Price- Volume Data')"
            ]
          },
          "metadata": {
            "tags": []
          },
          "execution_count": 20
        },
        {
          "output_type": "display_data",
          "data": {
            "image/png": "[encoded data removed]",
            "text/plain": [
              "<Figure size 720x576 with 1 Axes>"
            ]
          },
          "metadata": {
            "tags": [],
            "needs_background": "light"
          }
        }
      ]
    },
    {
      "cell_type": "code",
      "metadata": {
        "id": "_tiQ3M19ynBe",
        "colab_type": "code",
        "colab": {}
      },
      "source": [
        "X_train,X_test,Y_train,Y_test=train_test_split(regression_data['Volume'],regression_data['Price'],test_size=0.20)"
      ],
      "execution_count": 0,
      "outputs": []
    },
    {
      "cell_type": "code",
      "metadata": {
        "id": "Lta_ltTWynBi",
        "colab_type": "code",
        "colab": {},
        "outputId": "8573bbb3-2134-48ef-fa3b-f6827d44a7a4"
      },
      "source": [
        "X_train"
      ],
      "execution_count": 0,
      "outputs": [
        {
          "output_type": "execute_result",
          "data": {
            "text/plain": [
              "987    5.562429\n",
              "505    4.703143\n",
              "502    4.595208\n",
              "50     5.625858\n",
              "952    5.500768\n",
              "615    4.667784\n",
              "677    5.684179\n",
              "331    6.301191\n",
              "430    3.356153\n",
              "456    3.676000\n",
              "258    5.404743\n",
              "337    5.742691\n",
              "228    4.748923\n",
              "947    6.095762\n",
              "834    6.070434\n",
              "920    6.064862\n",
              "746    4.153636\n",
              "716    5.250649\n",
              "506    4.352447\n",
              "844    5.963033\n",
              "112    5.906196\n",
              "837    4.851083\n",
              "740    5.889475\n",
              "356    3.359659\n",
              "325    4.787276\n",
              "71     4.610869\n",
              "815    4.031413\n",
              "389    4.964745\n",
              "954    3.832794\n",
              "846    4.641164\n",
              "         ...   \n",
              "197    5.070131\n",
              "132    3.348369\n",
              "414    5.952295\n",
              "749    4.038241\n",
              "609    4.619565\n",
              "789    5.584037\n",
              "971    3.924166\n",
              "16     5.125223\n",
              "289    3.750654\n",
              "100    4.421473\n",
              "254    6.496554\n",
              "48     5.383644\n",
              "649    5.225152\n",
              "217    5.050086\n",
              "277    4.161477\n",
              "405    4.276160\n",
              "311    5.507833\n",
              "271    4.245394\n",
              "34     5.868277\n",
              "753    2.521346\n",
              "10     5.024371\n",
              "590    6.058247\n",
              "286    4.871952\n",
              "795    5.189364\n",
              "560    5.000057\n",
              "259    4.690615\n",
              "963    4.295163\n",
              "201    4.354431\n",
              "980    4.549867\n",
              "24     5.000100\n",
              "Name: Volume, Length: 800, dtype: float64"
            ]
          },
          "metadata": {
            "tags": []
          },
          "execution_count": 25
        }
      ]
    },
    {
      "cell_type": "code",
      "metadata": {
        "id": "r9UxKGXsynBq",
        "colab_type": "code",
        "colab": {},
        "outputId": "df9b15f4-06d9-4ace-8244-a8c6c02435ab"
      },
      "source": [
        "Y_train"
      ],
      "execution_count": 0,
      "outputs": [
        {
          "output_type": "execute_result",
          "data": {
            "text/plain": [
              "987    23.849511\n",
              "505    25.295014\n",
              "502    17.756161\n",
              "50     28.487263\n",
              "952    30.467992\n",
              "615    20.967217\n",
              "677    28.932018\n",
              "331    32.047360\n",
              "430    19.040139\n",
              "456    15.543144\n",
              "258    26.580883\n",
              "337    31.381670\n",
              "228    22.396689\n",
              "947    32.548973\n",
              "834    28.817848\n",
              "920    31.589289\n",
              "746    24.593638\n",
              "716    28.536812\n",
              "506    23.973675\n",
              "844    29.550970\n",
              "112    31.067543\n",
              "837    26.498535\n",
              "740    28.902864\n",
              "356    14.801247\n",
              "325    22.084316\n",
              "71     27.329619\n",
              "815    19.659942\n",
              "389    20.212690\n",
              "954    15.478300\n",
              "846    23.836693\n",
              "         ...    \n",
              "197    22.714243\n",
              "132    14.960091\n",
              "414    31.524346\n",
              "749    20.718414\n",
              "609    18.513298\n",
              "789    31.779673\n",
              "971    23.546402\n",
              "16     32.743237\n",
              "289    24.483752\n",
              "100    23.661384\n",
              "254    33.102030\n",
              "48     30.166573\n",
              "649    26.882364\n",
              "217    27.149098\n",
              "277    20.530973\n",
              "405    18.300230\n",
              "311    23.613599\n",
              "271    19.382976\n",
              "34     30.370368\n",
              "753    17.698655\n",
              "10     28.839021\n",
              "590    31.049750\n",
              "286    22.220210\n",
              "795    28.036818\n",
              "560    19.540716\n",
              "259    25.821041\n",
              "963    21.193211\n",
              "201    23.440776\n",
              "980    20.999686\n",
              "24     23.575410\n",
              "Name: Price, Length: 800, dtype: float64"
            ]
          },
          "metadata": {
            "tags": []
          },
          "execution_count": 27
        }
      ]
    },
    {
      "cell_type": "code",
      "metadata": {
        "id": "c0gc-TZ4ynBw",
        "colab_type": "code",
        "colab": {},
        "outputId": "3e0ee5d3-b068-435f-f21c-aa4961e1067e"
      },
      "source": [
        "Y_test"
      ],
      "execution_count": 0,
      "outputs": [
        {
          "output_type": "execute_result",
          "data": {
            "text/plain": [
              "659    31.165278\n",
              "907    23.680881\n",
              "137    11.496964\n",
              "210    29.642079\n",
              "301    32.941011\n",
              "326    29.183500\n",
              "222    18.745043\n",
              "17     22.750433\n",
              "958    36.927155\n",
              "904    25.013659\n",
              "504    32.443011\n",
              "783    29.217744\n",
              "623    28.878196\n",
              "528    34.447611\n",
              "868    24.580392\n",
              "340    28.239718\n",
              "298    26.531569\n",
              "320    26.262721\n",
              "598    29.166378\n",
              "624    27.182258\n",
              "163    18.281730\n",
              "110    21.195647\n",
              "806    30.749018\n",
              "840    24.797169\n",
              "93     15.939032\n",
              "231    25.065030\n",
              "681    23.845454\n",
              "81     24.222370\n",
              "36     24.508991\n",
              "927    26.450628\n",
              "         ...    \n",
              "114    22.387320\n",
              "474    17.640443\n",
              "214    30.235793\n",
              "752    28.862122\n",
              "274    22.168943\n",
              "206    25.923049\n",
              "83     20.394478\n",
              "303    23.679928\n",
              "358    27.501303\n",
              "413    29.873107\n",
              "855    25.403311\n",
              "53     31.868201\n",
              "819    28.548949\n",
              "563    20.659397\n",
              "55     25.832510\n",
              "899    12.623527\n",
              "585    21.714638\n",
              "70     19.604619\n",
              "294    25.154674\n",
              "67     23.343070\n",
              "913    28.142438\n",
              "265    27.127850\n",
              "158    31.377796\n",
              "196    27.958474\n",
              "568    30.602640\n",
              "407    18.321270\n",
              "28     27.443584\n",
              "547    21.333780\n",
              "149    18.059138\n",
              "762    26.169351\n",
              "Name: Price, Length: 200, dtype: float64"
            ]
          },
          "metadata": {
            "tags": []
          },
          "execution_count": 29
        }
      ]
    },
    {
      "cell_type": "code",
      "metadata": {
        "id": "iTloA0EAynB2",
        "colab_type": "code",
        "colab": {},
        "outputId": "e8853f75-8ab7-4af8-911e-ace5bea06ff1"
      },
      "source": [
        "simple_linear_regression=LinearRegression()\n",
        "\n",
        "X_train=X_train.values\n",
        "X_test=X_test.values\n",
        "Y_train=Y_train.values\n",
        "simple_linear_regression.fit(pandas.DataFrame(X_train),pandas.DataFrame(Y_train))\n",
        "Y_pred=simple_linear_regression.predict(pandas.DataFrame(X_test))"
      ],
      "execution_count": 0,
      "outputs": [
        {
          "output_type": "error",
          "ename": "AttributeError",
          "evalue": "'numpy.ndarray' object has no attribute 'values'",
          "traceback": [
            "\u001b[1;31m---------------------------------------------------------------------------\u001b[0m",
            "\u001b[1;31mAttributeError\u001b[0m                            Traceback (most recent call last)",
            "\u001b[1;32m<ipython-input-39-63024ce7caf0>\u001b[0m in \u001b[0;36m<module>\u001b[1;34m\u001b[0m\n\u001b[0;32m      1\u001b[0m \u001b[0msimple_linear_regression\u001b[0m\u001b[1;33m=\u001b[0m\u001b[0mLinearRegression\u001b[0m\u001b[1;33m(\u001b[0m\u001b[1;33m)\u001b[0m\u001b[1;33m\u001b[0m\u001b[1;33m\u001b[0m\u001b[0m\n\u001b[0;32m      2\u001b[0m \u001b[1;33m\u001b[0m\u001b[0m\n\u001b[1;32m----> 3\u001b[1;33m \u001b[0mX_train\u001b[0m\u001b[1;33m=\u001b[0m\u001b[0mX_train\u001b[0m\u001b[1;33m.\u001b[0m\u001b[0mvalues\u001b[0m\u001b[1;33m\u001b[0m\u001b[1;33m\u001b[0m\u001b[0m\n\u001b[0m\u001b[0;32m      4\u001b[0m \u001b[0mX_test\u001b[0m\u001b[1;33m=\u001b[0m\u001b[0mX_test\u001b[0m\u001b[1;33m.\u001b[0m\u001b[0mvalues\u001b[0m\u001b[1;33m\u001b[0m\u001b[1;33m\u001b[0m\u001b[0m\n\u001b[0;32m      5\u001b[0m \u001b[0mY_train\u001b[0m\u001b[1;33m=\u001b[0m\u001b[0mY_train\u001b[0m\u001b[1;33m.\u001b[0m\u001b[0mvalues\u001b[0m\u001b[1;33m\u001b[0m\u001b[1;33m\u001b[0m\u001b[0m\n",
            "\u001b[1;31mAttributeError\u001b[0m: 'numpy.ndarray' object has no attribute 'values'"
          ]
        }
      ]
    },
    {
      "cell_type": "code",
      "metadata": {
        "id": "MvNGsgKsynB9",
        "colab_type": "code",
        "colab": {},
        "outputId": "8157962f-caee-4fd1-8f11-60267c75c7c5"
      },
      "source": [
        "print(\"Mean squared error: %.1f\" %mean_squared_error(Y_test,Y_pred))"
      ],
      "execution_count": 0,
      "outputs": [
        {
          "output_type": "stream",
          "text": [
            "Mean squared error: 8.9\n"
          ],
          "name": "stdout"
        }
      ]
    },
    {
      "cell_type": "code",
      "metadata": {
        "id": "EqQtV73WynCF",
        "colab_type": "code",
        "colab": {},
        "outputId": "a5ce097c-b957-4403-cd25-5645d8be44fc"
      },
      "source": [
        "print('R2 score: %.2f' %r2_score(Y_test,Y_pred))"
      ],
      "execution_count": 0,
      "outputs": [
        {
          "output_type": "stream",
          "text": [
            "R2 score: 0.66\n"
          ],
          "name": "stdout"
        }
      ]
    },
    {
      "cell_type": "code",
      "metadata": {
        "id": "5jqgEja8ynCL",
        "colab_type": "code",
        "colab": {},
        "outputId": "e852a00e-6023-47b0-a042-98f1ba88114b"
      },
      "source": [
        "plt.scatter(X_test,Y_test,color='green')\n",
        "plt.plot(X_test,Y_pred,color='red',linewidth=2)\n"
      ],
      "execution_count": 0,
      "outputs": [
        {
          "output_type": "execute_result",
          "data": {
            "text/plain": [
              "[<matplotlib.lines.Line2D at 0x1c51a1c4898>]"
            ]
          },
          "metadata": {
            "tags": []
          },
          "execution_count": 45
        },
        {
          "output_type": "display_data",
          "data": {
            "image/png": "[encoded data removed]",
            "text/plain": [
              "<Figure size 432x288 with 1 Axes>"
            ]
          },
          "metadata": {
            "tags": [],
            "needs_background": "light"
          }
        }
      ]
    },
    {
      "cell_type": "code",
      "metadata": {
        "id": "pdXtF6oUynCR",
        "colab_type": "code",
        "colab": {}
      },
      "source": [
        ""
      ],
      "execution_count": 0,
      "outputs": []
    }
  ]
}