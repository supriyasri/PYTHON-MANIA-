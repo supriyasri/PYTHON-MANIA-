{
  "nbformat": 4,
  "nbformat_minor": 0,
  "metadata": {
    "colab": {
      "name": "DIfferentways of programming.ipynb",
      "version": "0.3.2",
      "provenance": [],
      "collapsed_sections": [],
      "include_colab_link": true
    },
    "kernelspec": {
      "name": "python3",
      "display_name": "Python 3"
    }
  },
  "cells": [
    {
      "cell_type": "markdown",
      "metadata": {
        "id": "view-in-github",
        "colab_type": "text"
      },
      "source": [
        "<a href=\"https://colab.research.google.com/github/supriyasri/PYTHON-MANIA-/blob/master/DIfferentways_of_programming.ipynb\" target=\"_parent\"><img src=\"https://colab.research.google.com/assets/colab-badge.svg\" alt=\"Open In Colab\"/></a>"
      ]
    },
    {
      "cell_type": "code",
      "metadata": {
        "id": "dhxk8SmdBxP5",
        "colab_type": "code",
        "outputId": "8e43f59a-27de-480e-b8e2-44bcaad15bca",
        "colab": {
          "base_uri": "https://localhost:8080/",
          "height": 51
        }
      },
      "source": [
        "def welcome():              #defining the function\n",
        "  print(\"Ima pathfinder\")\n",
        "  print(\"Im strong\")\n",
        "  \n",
        "welcome()                   #calling the function to execute "
      ],
      "execution_count": 0,
      "outputs": [
        {
          "output_type": "stream",
          "text": [
            "Ima pathfinder\n",
            "Im strong\n"
          ],
          "name": "stdout"
        }
      ]
    },
    {
      "cell_type": "code",
      "metadata": {
        "id": "SX9gb2jkCJgs",
        "colab_type": "code",
        "colab": {}
      },
      "source": [
        "def mul(x,y):\n",
        "  z=x*y\n",
        "  print(z)\n",
        "  \n",
        "a=int(input(\"enter 1st number\"))        #making function dynamic\n",
        "b=int(input(\"enter2nd number\"))\n",
        "mul(a,b)                                #calling the function to execute function operation"
      ],
      "execution_count": 0,
      "outputs": []
    },
    {
      "cell_type": "code",
      "metadata": {
        "id": "PVY4aMwnCycT",
        "colab_type": "code",
        "colab": {}
      },
      "source": [
        "import numpy as np\n",
        "from scipy.special import cbrt "
      ],
      "execution_count": 0,
      "outputs": []
    },
    {
      "cell_type": "code",
      "metadata": {
        "id": "i1hB8n22pnS4",
        "colab_type": "code",
        "outputId": "16790b2c-4d19-40ea-d6d8-335c9c1fbdf9",
        "colab": {
          "base_uri": "https://localhost:8080/",
          "height": 34
        }
      },
      "source": [
        "cb=cbrt([64,1000])        #Find cubic root of 64 & 1000 using cbrt() function\n",
        "print(cb)\n"
      ],
      "execution_count": 0,
      "outputs": [
        {
          "output_type": "stream",
          "text": [
            "[ 4. 10.]\n"
          ],
          "name": "stdout"
        }
      ]
    },
    {
      "cell_type": "code",
      "metadata": {
        "id": "NGCiL-f7p2ww",
        "colab_type": "code",
        "outputId": "9651f17a-868c-49a8-9456-66a33ab914b9",
        "colab": {
          "base_uri": "https://localhost:8080/",
          "height": 163
        }
      },
      "source": [
        "geterr                    #when to apply this "
      ],
      "execution_count": 0,
      "outputs": [
        {
          "output_type": "error",
          "ename": "NameError",
          "evalue": "ignored",
          "traceback": [
            "\u001b[0;31m---------------------------------------------------------------------------\u001b[0m",
            "\u001b[0;31mNameError\u001b[0m                                 Traceback (most recent call last)",
            "\u001b[0;32m<ipython-input-12-d0e2f05c77ca>\u001b[0m in \u001b[0;36m<module>\u001b[0;34m()\u001b[0m\n\u001b[0;32m----> 1\u001b[0;31m \u001b[0mgeterr\u001b[0m                    \u001b[0;31m#when to apply this\u001b[0m\u001b[0;34m\u001b[0m\u001b[0;34m\u001b[0m\u001b[0m\n\u001b[0m",
            "\u001b[0;31mNameError\u001b[0m: name 'geterr' is not defined"
          ]
        }
      ]
    },
    {
      "cell_type": "code",
      "metadata": {
        "id": "ibuOPQHLuOLz",
        "colab_type": "code",
        "outputId": "a21242ba-f91e-4753-ff70-5875dc7ed6b2",
        "colab": {
          "base_uri": "https://localhost:8080/",
          "height": 34
        }
      },
      "source": [
        "from scipy.special import exp10\n",
        "exp=exp10([1,10])                 #how its working\n",
        "print(exp)"
      ],
      "execution_count": 0,
      "outputs": [
        {
          "output_type": "stream",
          "text": [
            "[1.e+01 1.e+10]\n"
          ],
          "name": "stdout"
        }
      ]
    },
    {
      "cell_type": "code",
      "metadata": {
        "id": "UabDjb37u0e4",
        "colab_type": "code",
        "outputId": "4947249b-778e-40d8-fbdf-0f5104892f80",
        "colab": {
          "base_uri": "https://localhost:8080/",
          "height": 34
        }
      },
      "source": [
        "a=exp10(2)\n",
        "print(a)"
      ],
      "execution_count": 0,
      "outputs": [
        {
          "output_type": "stream",
          "text": [
            "100.0\n"
          ],
          "name": "stdout"
        }
      ]
    },
    {
      "cell_type": "code",
      "metadata": {
        "id": "8bd1TrnzAVav",
        "colab_type": "code",
        "outputId": "a593fbd7-4e32-4d1e-e7b4-f31f9cb7a425",
        "colab": {
          "base_uri": "https://localhost:8080/",
          "height": 35
        }
      },
      "source": [
        ""
      ],
      "execution_count": 0,
      "outputs": [
        {
          "output_type": "stream",
          "text": [
            "<ufunc 'exp10'>\n"
          ],
          "name": "stdout"
        }
      ]
    },
    {
      "cell_type": "code",
      "metadata": {
        "id": "Au3uf8CDwgdK",
        "colab_type": "code",
        "outputId": "805a6553-9ea0-4081-ec7a-3dada7f9b295",
        "colab": {
          "base_uri": "https://localhost:8080/",
          "height": 34
        }
      },
      "source": [
        "from scipy.special import comb            #FIND COMBINATION,REPETIITONS OCCUR \n",
        "com=comb(5,2,exact=False,repetition=True)\n",
        "print(com)"
      ],
      "execution_count": 0,
      "outputs": [
        {
          "output_type": "stream",
          "text": [
            "15.0\n"
          ],
          "name": "stdout"
        }
      ]
    },
    {
      "cell_type": "code",
      "metadata": {
        "id": "yz2Q2v1qx2B6",
        "colab_type": "code",
        "outputId": "903e111d-b2e7-4901-c2a4-b09fe376a897",
        "colab": {
          "base_uri": "https://localhost:8080/",
          "height": 34
        }
      },
      "source": [
        "#find permutation of 5, 2 using perm (N, k) function\n",
        "\n",
        "from scipy.special import perm\n",
        "\n",
        "per = perm(5, 2, exact = True)\n",
        "print(per)"
      ],
      "execution_count": 0,
      "outputs": [
        {
          "output_type": "stream",
          "text": [
            "20\n"
          ],
          "name": "stdout"
        }
      ]
    },
    {
      "cell_type": "code",
      "metadata": {
        "id": "6u0oL7crx4v4",
        "colab_type": "code",
        "colab": {}
      },
      "source": [
        "LINEAR ALGEBRA\n",
        "Linear Algebra-scipy.linalg"
      ],
      "execution_count": 0,
      "outputs": []
    },
    {
      "cell_type": "code",
      "metadata": {
        "id": "1RF0C_7fzH2U",
        "colab_type": "code",
        "outputId": "86ebecf6-0304-4d6b-a40f-54afc6d637ca",
        "colab": {
          "base_uri": "https://localhost:8080/",
          "height": 34
        }
      },
      "source": [
        "# Calculate determinant of 2-D matrix\n",
        "from scipy import linalg\n",
        "import numpy as np\n",
        "two_d_array=np.array([  [2,4],[5,1]  ])    #defining 2-D array-be careful of naming convention \n",
        "linalg.det(two_d_array)\n"
      ],
      "execution_count": 0,
      "outputs": [
        {
          "output_type": "execute_result",
          "data": {
            "text/plain": [
              "-18.0"
            ]
          },
          "metadata": {
            "tags": []
          },
          "execution_count": 32
        }
      ]
    },
    {
      "cell_type": "code",
      "metadata": {
        "id": "ME_MYov90F3q",
        "colab_type": "code",
        "outputId": "907127f1-0c98-4717-d4cd-febecf2e9c5d",
        "colab": {
          "base_uri": "https://localhost:8080/",
          "height": 129
        }
      },
      "source": [
        "Inverse Matrix\n",
        "scipy.linalg.inv()\n",
        "\n"
      ],
      "execution_count": 0,
      "outputs": [
        {
          "output_type": "error",
          "ename": "SyntaxError",
          "evalue": "ignored",
          "traceback": [
            "\u001b[0;36m  File \u001b[0;32m\"<ipython-input-36-ea40a9c280cb>\"\u001b[0;36m, line \u001b[0;32m1\u001b[0m\n\u001b[0;31m    Inverse Matrix\u001b[0m\n\u001b[0m                 ^\u001b[0m\n\u001b[0;31mSyntaxError\u001b[0m\u001b[0;31m:\u001b[0m invalid syntax\n"
          ]
        }
      ]
    },
    {
      "cell_type": "code",
      "metadata": {
        "id": "XTt7D3bfCkEp",
        "colab_type": "code",
        "outputId": "119e994b-0617-4107-fdb1-76a3352b3f8e",
        "colab": {
          "base_uri": "https://localhost:8080/",
          "height": 34
        }
      },
      "source": [
        "from scipy.special import exp10\n",
        "exp=exp10([1])                 #how its working\n",
        "print(exp)"
      ],
      "execution_count": 0,
      "outputs": [
        {
          "output_type": "stream",
          "text": [
            "[10.]\n"
          ],
          "name": "stdout"
        }
      ]
    },
    {
      "cell_type": "code",
      "metadata": {
        "id": "yJ9XbviSCnIY",
        "colab_type": "code",
        "outputId": "f8460676-8e53-4003-de0b-fa9578e7e09a",
        "colab": {
          "base_uri": "https://localhost:8080/",
          "height": 34
        }
      },
      "source": [
        "from scipy.special import exp10\n",
        "exp=exp10([10])                 \n",
        "print(exp)"
      ],
      "execution_count": 0,
      "outputs": [
        {
          "output_type": "stream",
          "text": [
            "[1.e+10]\n"
          ],
          "name": "stdout"
        }
      ]
    },
    {
      "cell_type": "code",
      "metadata": {
        "id": "c6Xb4bAYCsIy",
        "colab_type": "code",
        "outputId": "e846d9c2-b31d-4817-cbfc-ef82fd54e468",
        "colab": {
          "base_uri": "https://localhost:8080/",
          "height": 34
        }
      },
      "source": [
        "a=exp10(2)\n",
        "print(a)"
      ],
      "execution_count": 0,
      "outputs": [
        {
          "output_type": "stream",
          "text": [
            "100.0\n"
          ],
          "name": "stdout"
        }
      ]
    },
    {
      "cell_type": "code",
      "metadata": {
        "id": "8LYVnWemCvVN",
        "colab_type": "code",
        "outputId": "01774256-596c-4288-c28a-4c49d21eb76e",
        "colab": {
          "base_uri": "https://localhost:8080/",
          "height": 34
        }
      },
      "source": [
        "b=exp10(1)\n",
        "print(b)"
      ],
      "execution_count": 0,
      "outputs": [
        {
          "output_type": "stream",
          "text": [
            "10.0\n"
          ],
          "name": "stdout"
        }
      ]
    },
    {
      "cell_type": "code",
      "metadata": {
        "id": "Mt0O_g3BC8z9",
        "colab_type": "code",
        "outputId": "91d041ac-f9d6-4385-9998-1360c9838fdb",
        "colab": {
          "base_uri": "https://localhost:8080/",
          "height": 34
        }
      },
      "source": [
        "c=exp10(10)\n",
        "print(c)"
      ],
      "execution_count": 0,
      "outputs": [
        {
          "output_type": "stream",
          "text": [
            "10000000000.0\n"
          ],
          "name": "stdout"
        }
      ]
    },
    {
      "cell_type": "code",
      "metadata": {
        "id": "IlgABQ0bDKRD",
        "colab_type": "code",
        "outputId": "13f02286-ddf9-4d1a-9148-b1fd0b4cdf02",
        "colab": {
          "base_uri": "https://localhost:8080/",
          "height": 180
        }
      },
      "source": [
        "d=exp10(4)\n",
        "print(d)"
      ],
      "execution_count": 1,
      "outputs": [
        {
          "output_type": "error",
          "ename": "NameError",
          "evalue": "ignored",
          "traceback": [
            "\u001b[0;31m---------------------------------------------------------------------------\u001b[0m",
            "\u001b[0;31mNameError\u001b[0m                                 Traceback (most recent call last)",
            "\u001b[0;32m<ipython-input-1-153e0d8a58d6>\u001b[0m in \u001b[0;36m<module>\u001b[0;34m()\u001b[0m\n\u001b[0;32m----> 1\u001b[0;31m \u001b[0md\u001b[0m\u001b[0;34m=\u001b[0m\u001b[0mexp10\u001b[0m\u001b[0;34m(\u001b[0m\u001b[0;36m4\u001b[0m\u001b[0;34m)\u001b[0m\u001b[0;34m\u001b[0m\u001b[0;34m\u001b[0m\u001b[0m\n\u001b[0m\u001b[1;32m      2\u001b[0m \u001b[0mprint\u001b[0m\u001b[0;34m(\u001b[0m\u001b[0md\u001b[0m\u001b[0;34m)\u001b[0m\u001b[0;34m\u001b[0m\u001b[0;34m\u001b[0m\u001b[0m\n",
            "\u001b[0;31mNameError\u001b[0m: name 'exp10' is not defined"
          ]
        }
      ]
    },
    {
      "cell_type": "code",
      "metadata": {
        "id": "JU4osYr2BH5t",
        "colab_type": "code",
        "colab": {
          "base_uri": "https://localhost:8080/",
          "height": 68
        },
        "outputId": "be395be9-efac-491e-f2c0-3c9131d0f57b"
      },
      "source": [
        "def div(a,b):                                  #division of two numbers using function \n",
        "    x=(a/b)\n",
        "    print(x)\n",
        "    \n",
        "c=int(input(\"enter value of first number\"))\n",
        "d=int(input(\"enter value of second number\"))\n",
        "div(c,d)\n"
      ],
      "execution_count": 4,
      "outputs": [
        {
          "output_type": "stream",
          "text": [
            "enter value of first number5\n",
            "enter value of second number6\n",
            "0.8333333333333334\n"
          ],
          "name": "stdout"
        }
      ]
    },
    {
      "cell_type": "code",
      "metadata": {
        "id": "BxWhsY8cBqAE",
        "colab_type": "code",
        "colab": {
          "base_uri": "https://localhost:8080/",
          "height": 51
        },
        "outputId": "2803bd10-8653-4b72-c5e5-589f1fefb63d"
      },
      "source": [
        "def add_sub(x,y):\n",
        "  z=x+y\n",
        "  a=x-y\n",
        "  return z,a\n",
        "result1,result2=add_sub(5,7)              #Here RETURN function returns the value for result 1 and result 2 \n",
        "print(result1)\n",
        "print(result2)\n",
        "\n"
      ],
      "execution_count": 6,
      "outputs": [
        {
          "output_type": "stream",
          "text": [
            "12\n",
            "-2\n"
          ],
          "name": "stdout"
        }
      ]
    },
    {
      "cell_type": "code",
      "metadata": {
        "id": "BF3DZsmMMsI-",
        "colab_type": "code",
        "colab": {
          "base_uri": "https://localhost:8080/",
          "height": 231
        },
        "outputId": "4babfd6b-db09-463a-afe5-a72f1bb62b1f"
      },
      "source": [
        "def add_sub(x,y):\n",
        "  z=x+y\n",
        "  a=x-y\n",
        " # return z,a\n",
        "result1,result2=add_sub(5,7)              #Here RETURN function returns the value for result 1 and result 2 \n",
        "print(result1)\n",
        "print(result2)\n"
      ],
      "execution_count": 8,
      "outputs": [
        {
          "output_type": "error",
          "ename": "TypeError",
          "evalue": "ignored",
          "traceback": [
            "\u001b[0;31m---------------------------------------------------------------------------\u001b[0m",
            "\u001b[0;31mTypeError\u001b[0m                                 Traceback (most recent call last)",
            "\u001b[0;32m<ipython-input-8-6099a31a90a2>\u001b[0m in \u001b[0;36m<module>\u001b[0;34m()\u001b[0m\n\u001b[1;32m      3\u001b[0m   \u001b[0ma\u001b[0m\u001b[0;34m=\u001b[0m\u001b[0mx\u001b[0m\u001b[0;34m-\u001b[0m\u001b[0my\u001b[0m\u001b[0;34m\u001b[0m\u001b[0;34m\u001b[0m\u001b[0m\n\u001b[1;32m      4\u001b[0m  \u001b[0;31m# return z,a\u001b[0m\u001b[0;34m\u001b[0m\u001b[0;34m\u001b[0m\u001b[0;34m\u001b[0m\u001b[0m\n\u001b[0;32m----> 5\u001b[0;31m \u001b[0mresult1\u001b[0m\u001b[0;34m,\u001b[0m\u001b[0mresult2\u001b[0m\u001b[0;34m=\u001b[0m\u001b[0madd_sub\u001b[0m\u001b[0;34m(\u001b[0m\u001b[0;36m5\u001b[0m\u001b[0;34m,\u001b[0m\u001b[0;36m7\u001b[0m\u001b[0;34m)\u001b[0m              \u001b[0;31m#Here RETURN function returns the value for result 1 and result 2\u001b[0m\u001b[0;34m\u001b[0m\u001b[0;34m\u001b[0m\u001b[0m\n\u001b[0m\u001b[1;32m      6\u001b[0m \u001b[0mprint\u001b[0m\u001b[0;34m(\u001b[0m\u001b[0mresult1\u001b[0m\u001b[0;34m)\u001b[0m\u001b[0;34m\u001b[0m\u001b[0;34m\u001b[0m\u001b[0m\n\u001b[1;32m      7\u001b[0m \u001b[0mprint\u001b[0m\u001b[0;34m(\u001b[0m\u001b[0mresult2\u001b[0m\u001b[0;34m)\u001b[0m\u001b[0;34m\u001b[0m\u001b[0;34m\u001b[0m\u001b[0m\n",
            "\u001b[0;31mTypeError\u001b[0m: 'NoneType' object is not iterable"
          ]
        }
      ]
    },
    {
      "cell_type": "code",
      "metadata": {
        "id": "bl49FlVJQGl-",
        "colab_type": "code",
        "colab": {
          "base_uri": "https://localhost:8080/",
          "height": 68
        },
        "outputId": "53b5c656-c7bd-4830-cd2e-558db0918c60"
      },
      "source": [
        "def mul(a,b):\n",
        "  x=a*b\n",
        "  print(x)                                #only value of x is defined \n",
        " \n",
        "a=int(input(\"enter 1st number\"))\n",
        "b=int(input(\"enter 2nd number\"))\n",
        "mul(a,b)"
      ],
      "execution_count": 10,
      "outputs": [
        {
          "output_type": "stream",
          "text": [
            "enter 1st number5\n",
            "enter 2nd number6\n",
            "30\n"
          ],
          "name": "stdout"
        }
      ]
    },
    {
      "cell_type": "code",
      "metadata": {
        "id": "tYc0Y8q5bVCe",
        "colab_type": "code",
        "colab": {
          "base_uri": "https://localhost:8080/",
          "height": 85
        },
        "outputId": "a6ddb2ba-2690-47a9-869c-915967ec7dc2"
      },
      "source": [
        "def mul(a,b):\n",
        "  x=a*b\n",
        "  print(x)\n",
        "  return x                              #return stmt helps to return the value of x to c\n",
        " \n",
        "a=int(input(\"enter 1st number\"))\n",
        "b=int(input(\"enter 2nd number\"))\n",
        "c=mul(a,b)\n",
        "print(c)"
      ],
      "execution_count": 15,
      "outputs": [
        {
          "output_type": "stream",
          "text": [
            "enter 1st number4\n",
            "enter 2nd number5\n",
            "20\n",
            "20\n"
          ],
          "name": "stdout"
        }
      ]
    },
    {
      "cell_type": "code",
      "metadata": {
        "id": "NoqBT5HMb4pq",
        "colab_type": "code",
        "colab": {
          "base_uri": "https://localhost:8080/",
          "height": 85
        },
        "outputId": "a075cc1d-2c58-4de9-a1b5-99c5a61eb119"
      },
      "source": [
        "def mul(a,b):\n",
        "  x=a*b\n",
        "  print(x)\n",
        "  return x                              #return stmt helps to return the value of x to mul(a,b)\n",
        " \n",
        "a=int(input(\"enter 1st number\"))\n",
        "b=int(input(\"enter 2nd number\"))\n",
        "mul(a,b)\n",
        "\n"
      ],
      "execution_count": 18,
      "outputs": [
        {
          "output_type": "stream",
          "text": [
            "enter 1st number4\n",
            "enter 2nd number5\n",
            "20\n"
          ],
          "name": "stdout"
        },
        {
          "output_type": "execute_result",
          "data": {
            "text/plain": [
              "20"
            ]
          },
          "metadata": {
            "tags": []
          },
          "execution_count": 18
        }
      ]
    },
    {
      "cell_type": "code",
      "metadata": {
        "id": "WD9o74WAgIWu",
        "colab_type": "code",
        "colab": {
          "base_uri": "https://localhost:8080/",
          "height": 51
        },
        "outputId": "4e75b419-30f4-4aa0-f373-3607b8f0a1dc"
      },
      "source": [
        "class Family:                              #namingconvention needs UPPER CASE in the start\n",
        "  def sub1(self):                          #defining METHOD -a(self)\n",
        "      print(\"super conscious\")\n",
        "  \n",
        "  def sub2(self):                            \n",
        "      print(\"im yogi\")\n",
        "  \n",
        "comp=Family()                             #object reference=Name()\n",
        "comp.sub1()\n",
        "comp.sub2()\n",
        "\n",
        " "
      ],
      "execution_count": 23,
      "outputs": [
        {
          "output_type": "stream",
          "text": [
            "super conscious\n",
            "im yogi\n"
          ],
          "name": "stdout"
        }
      ]
    },
    {
      "cell_type": "code",
      "metadata": {
        "id": "iIR2yNsEiXhS",
        "colab_type": "code",
        "colab": {}
      },
      "source": [
        ""
      ],
      "execution_count": 0,
      "outputs": []
    }
  ]
}