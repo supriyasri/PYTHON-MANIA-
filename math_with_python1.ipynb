{
  "nbformat": 4,
  "nbformat_minor": 0,
  "metadata": {
    "colab": {
      "name": "math with python1.ipynb",
      "version": "0.3.2",
      "provenance": [],
      "collapsed_sections": [],
      "include_colab_link": true
    },
    "kernelspec": {
      "name": "python3",
      "display_name": "Python 3"
    }
  },
  "cells": [
    {
      "cell_type": "markdown",
      "metadata": {
        "id": "view-in-github",
        "colab_type": "text"
      },
      "source": [
        "<a href=\"https://colab.research.google.com/github/supriyasri/PYTHON-MANIA-/blob/master/math_with_python1.ipynb\" target=\"_parent\"><img src=\"https://colab.research.google.com/assets/colab-badge.svg\" alt=\"Open In Colab\"/></a>"
      ]
    },
    {
      "cell_type": "code",
      "metadata": {
        "id": "u9kdlCLJxb5D",
        "colab_type": "code",
        "outputId": "64a587d6-e3c8-4e00-8a4c-8c69bbe3fd97",
        "colab": {
          "base_uri": "https://localhost:8080/",
          "height": 134
        }
      },
      "source": [
        "def factors(b):                       #Factors of a number\n",
        "  for i in range(1,b+1):\n",
        "    if b%i==0:\n",
        "      print(i)\n",
        "    else :\n",
        "      print(\"Not a factor\")\n",
        "b=int(input(\"your number please\"))\n",
        "factors(b)\n"
      ],
      "execution_count": 0,
      "outputs": [
        {
          "output_type": "stream",
          "text": [
            "your number please6\n",
            "1\n",
            "2\n",
            "3\n",
            "Not a factor\n",
            "Not a factor\n",
            "6\n"
          ],
          "name": "stdout"
        }
      ]
    },
    {
      "cell_type": "code",
      "metadata": {
        "id": "B0wpjXFtxwNj",
        "colab_type": "code",
        "outputId": "08ddb2fc-0b01-4749-9ae8-290f7cbad38c",
        "colab": {
          "base_uri": "https://localhost:8080/",
          "height": 34
        }
      },
      "source": [
        "item1='pencils'             #placehoders in strings\n",
        "item2='pens'\n",
        "item3='erasers'\n",
        "print('at the grocery store,i brought some {0}, {1} and {2}'.format(item1,item2,item3))\n"
      ],
      "execution_count": 0,
      "outputs": [
        {
          "output_type": "stream",
          "text": [
            "at the grocery store,i brought some pencils, pens and erasers\n"
          ],
          "name": "stdout"
        }
      ]
    },
    {
      "cell_type": "code",
      "metadata": {
        "id": "FkXmPI45eiZ7",
        "colab_type": "code",
        "outputId": "132e2271-8775-48b3-86ca-e7b563668150",
        "colab": {
          "base_uri": "https://localhost:8080/",
          "height": 34
        }
      },
      "source": [
        "print('at the grocery store,i brought some {0},{1}and {2}'.format(1,2,3))   "
      ],
      "execution_count": 0,
      "outputs": [
        {
          "output_type": "stream",
          "text": [
            "at the grocery store,i brought some 1,2and 3\n"
          ],
          "name": "stdout"
        }
      ]
    },
    {
      "cell_type": "code",
      "metadata": {
        "id": "ltY_q5ywfamX",
        "colab_type": "code",
        "outputId": "f71f6438-5eab-41b0-9206-5a203f328019",
        "colab": {
          "base_uri": "https://localhost:8080/",
          "height": 34
        }
      },
      "source": [
        "print('at the grocery store,i brought some {0},{1}and {2}'.format('pp','qq','rr'))    #in FROMAT we can give only initialized variables,numbers"
      ],
      "execution_count": 0,
      "outputs": [
        {
          "output_type": "stream",
          "text": [
            "at the grocery store,i brought some pp,qqand rr\n"
          ],
          "name": "stdout"
        }
      ]
    },
    {
      "cell_type": "code",
      "metadata": {
        "id": "P1pflzjIhkYb",
        "colab_type": "code",
        "outputId": "9a0d6389-1ea5-47c4-a6b1-a84d6079fc4e",
        "colab": {
          "base_uri": "https://localhost:8080/",
          "height": 182
        }
      },
      "source": [
        "print('at the grocery store,i brought some {0},{1}and {2}'.format(pp,qq,rr))    #without initialization,variable cannot be used "
      ],
      "execution_count": 0,
      "outputs": [
        {
          "output_type": "error",
          "ename": "NameError",
          "evalue": "ignored",
          "traceback": [
            "\u001b[0;31m---------------------------------------------------------------------------\u001b[0m",
            "\u001b[0;31mNameError\u001b[0m                                 Traceback (most recent call last)",
            "\u001b[0;32m<ipython-input-25-2baccecc6893>\u001b[0m in \u001b[0;36m<module>\u001b[0;34m()\u001b[0m\n\u001b[0;32m----> 1\u001b[0;31m \u001b[0mprint\u001b[0m\u001b[0;34m(\u001b[0m\u001b[0;34m'at the grocery store,i brought some {0},{1}and {2}'\u001b[0m\u001b[0;34m.\u001b[0m\u001b[0mformat\u001b[0m\u001b[0;34m(\u001b[0m\u001b[0mpp\u001b[0m\u001b[0;34m,\u001b[0m\u001b[0mqq\u001b[0m\u001b[0;34m,\u001b[0m\u001b[0mrr\u001b[0m\u001b[0;34m)\u001b[0m\u001b[0;34m)\u001b[0m    \u001b[0;31m#without initialization,variable cannot be used\u001b[0m\u001b[0;34m\u001b[0m\u001b[0;34m\u001b[0m\u001b[0m\n\u001b[0m",
            "\u001b[0;31mNameError\u001b[0m: name 'pp' is not defined"
          ]
        }
      ]
    },
    {
      "cell_type": "code",
      "metadata": {
        "id": "UImjXxlah1dh",
        "colab_type": "code",
        "outputId": "9b6bd58f-0859-44c7-efd9-31e794084f3f",
        "colab": {
          "base_uri": "https://localhost:8080/",
          "height": 34
        }
      },
      "source": [
        "\n",
        "a= \"%s is %f years experienced in Data Science department\"\n",
        "a %(\"krishna\",6.5)                                      #numbers in normal way, characters is given as string \n"
      ],
      "execution_count": 0,
      "outputs": [
        {
          "output_type": "execute_result",
          "data": {
            "text/plain": [
              "'krishna is 6.500000 years experienced in Data Science department'"
            ]
          },
          "metadata": {
            "tags": []
          },
          "execution_count": 27
        }
      ]
    },
    {
      "cell_type": "code",
      "metadata": {
        "id": "rgH777YekSC3",
        "colab_type": "code",
        "outputId": "73091a61-bd0e-46e9-8947-255edae15424",
        "colab": {
          "base_uri": "https://localhost:8080/",
          "height": 128
        }
      },
      "source": [
        "def mul(a):\n",
        "  for i in range(1,n+1):\n",
        "    print({0} * {1} ={2}.format(n,i,n*i))           \n",
        "    \n",
        "n=int(input(\"Enter a number to generate multiplication table\"))  #Generate string only,,,,,,it becomes an expression \n",
        "\n",
        "mul(n)"
      ],
      "execution_count": 0,
      "outputs": [
        {
          "output_type": "error",
          "ename": "SyntaxError",
          "evalue": "ignored",
          "traceback": [
            "\u001b[0;36m  File \u001b[0;32m\"<ipython-input-29-61746e430ab3>\"\u001b[0;36m, line \u001b[0;32m3\u001b[0m\n\u001b[0;31m    print({0} * {1} ={2}.format(n,i,n*i))\u001b[0m\n\u001b[0m         ^\u001b[0m\n\u001b[0;31mSyntaxError\u001b[0m\u001b[0;31m:\u001b[0m keyword can't be an expression\n"
          ]
        }
      ]
    },
    {
      "cell_type": "code",
      "metadata": {
        "id": "J8N7dg40lBcd",
        "colab_type": "code",
        "outputId": "529c52bd-3e24-490a-87d7-db844c2226c5",
        "colab": {
          "base_uri": "https://localhost:8080/",
          "height": 202
        }
      },
      "source": [
        "def mul(a):\n",
        "  for i in range(1,11):\n",
        "    print('{0} * {1} ={2}'.format(n,i,n*i))\n",
        "    \n",
        "n=int(input(\"Enter a number to generate multiplication table\"))\n",
        "mul(n)"
      ],
      "execution_count": 0,
      "outputs": [
        {
          "output_type": "stream",
          "text": [
            "Enter a number to generate multiplication table10\n",
            "10 * 1 =10\n",
            "10 * 2 =20\n",
            "10 * 3 =30\n",
            "10 * 4 =40\n",
            "10 * 5 =50\n",
            "10 * 6 =60\n",
            "10 * 7 =70\n",
            "10 * 8 =80\n",
            "10 * 9 =90\n",
            "10 * 10 =100\n"
          ],
          "name": "stdout"
        }
      ]
    },
    {
      "cell_type": "code",
      "metadata": {
        "id": "edb3M1Qin8MY",
        "colab_type": "code",
        "outputId": "bd3cb966-971b-4c34-fe49-993dc58cce79",
        "colab": {
          "base_uri": "https://localhost:8080/",
          "height": 34
        }
      },
      "source": [
        "sent =%s %s is extra ordinary girl \n",
        "sent"
      ],
      "execution_count": 0,
      "outputs": [
        {
          "output_type": "stream",
          "text": [
            "UsageError: Line magic function `%s` not found.\n"
          ],
          "name": "stderr"
        }
      ]
    },
    {
      "cell_type": "code",
      "metadata": {
        "id": "LdN5ojAnoMf5",
        "colab_type": "code",
        "outputId": "e668f1cc-9a09-4fc6-eac2-f1aee9a9be2e",
        "colab": {
          "base_uri": "https://localhost:8080/",
          "height": 34
        }
      },
      "source": [
        "sent ='%s %s is extra ordinary girl'      # variable can be assigned NUMBER or STING, but not characters \n",
        "sent      "
      ],
      "execution_count": 0,
      "outputs": [
        {
          "output_type": "execute_result",
          "data": {
            "text/plain": [
              "'%s %s is extra ordinary girl'"
            ]
          },
          "metadata": {
            "tags": []
          },
          "execution_count": 37
        }
      ]
    },
    {
      "cell_type": "code",
      "metadata": {
        "id": "mij4OK2Toa-N",
        "colab_type": "code",
        "outputId": "316f4af7-a938-4cc1-ab01-cd68e2b61a44",
        "colab": {
          "base_uri": "https://localhost:8080/",
          "height": 34
        }
      },
      "source": [
        "sent ='%s %s is extra ordinary girl'     \n",
        "sent %('baby','supriya')"
      ],
      "execution_count": 0,
      "outputs": [
        {
          "output_type": "execute_result",
          "data": {
            "text/plain": [
              "'baby supriya is extra ordinary girl'"
            ]
          },
          "metadata": {
            "tags": []
          },
          "execution_count": 40
        }
      ]
    },
    {
      "cell_type": "code",
      "metadata": {
        "id": "_DAETmfTo7yb",
        "colab_type": "code",
        "outputId": "6e82b3e5-df25-483b-a6b5-d96ed82aa2e3",
        "colab": {
          "base_uri": "https://localhost:8080/",
          "height": 34
        }
      },
      "source": [
        "'{0}'.format(1)"
      ],
      "execution_count": 0,
      "outputs": [
        {
          "output_type": "execute_result",
          "data": {
            "text/plain": [
              "'1'"
            ]
          },
          "metadata": {
            "tags": []
          },
          "execution_count": 42
        }
      ]
    },
    {
      "cell_type": "code",
      "metadata": {
        "id": "pZeK0rj5q4lz",
        "colab_type": "code",
        "outputId": "025e90a5-397c-4892-f75a-3f0e2dbb6177",
        "colab": {
          "base_uri": "https://localhost:8080/",
          "height": 34
        }
      },
      "source": [
        "'{0}'.format(1.23456)"
      ],
      "execution_count": 0,
      "outputs": [
        {
          "output_type": "execute_result",
          "data": {
            "text/plain": [
              "'1.23456'"
            ]
          },
          "metadata": {
            "tags": []
          },
          "execution_count": 45
        }
      ]
    },
    {
      "cell_type": "code",
      "metadata": {
        "id": "2zTI0jA8rCLK",
        "colab_type": "code",
        "outputId": "75c890cc-2a21-413c-86a1-75c9671ebc09",
        "colab": {
          "base_uri": "https://localhost:8080/",
          "height": 162
        }
      },
      "source": [
        "'{0.2f}'.format(1.23456)"
      ],
      "execution_count": 0,
      "outputs": [
        {
          "output_type": "error",
          "ename": "AttributeError",
          "evalue": "ignored",
          "traceback": [
            "\u001b[0;31m---------------------------------------------------------------------------\u001b[0m",
            "\u001b[0;31mAttributeError\u001b[0m                            Traceback (most recent call last)",
            "\u001b[0;32m<ipython-input-47-e102bd19c192>\u001b[0m in \u001b[0;36m<module>\u001b[0;34m()\u001b[0m\n\u001b[0;32m----> 1\u001b[0;31m \u001b[0;34m'{0.2f}'\u001b[0m\u001b[0;34m.\u001b[0m\u001b[0mformat\u001b[0m\u001b[0;34m(\u001b[0m\u001b[0;36m1.23456\u001b[0m\u001b[0;34m)\u001b[0m\u001b[0;34m\u001b[0m\u001b[0;34m\u001b[0m\u001b[0m\n\u001b[0m",
            "\u001b[0;31mAttributeError\u001b[0m: 'float' object has no attribute '2f'"
          ]
        }
      ]
    },
    {
      "cell_type": "code",
      "metadata": {
        "id": "gLhQhYSyrqB4",
        "colab_type": "code",
        "outputId": "9ff1fca6-d647-4f28-e993-b6cc650f3299",
        "colab": {
          "base_uri": "https://localhost:8080/",
          "height": 34
        }
      },
      "source": [
        "'{0:.2f}'.format(1.23456)      #u can control the decimal places using COLON in between real part and decimlapart"
      ],
      "execution_count": 0,
      "outputs": [
        {
          "output_type": "execute_result",
          "data": {
            "text/plain": [
              "'1.23'"
            ]
          },
          "metadata": {
            "tags": []
          },
          "execution_count": 50
        }
      ]
    },
    {
      "cell_type": "code",
      "metadata": {
        "id": "b8jRlhVatgL1",
        "colab_type": "code",
        "colab": {}
      },
      "source": [
        ""
      ],
      "execution_count": 0,
      "outputs": []
    },
    {
      "cell_type": "code",
      "metadata": {
        "id": "OYMAw6dZsh5i",
        "colab_type": "code",
        "colab": {}
      },
      "source": [
        ""
      ],
      "execution_count": 0,
      "outputs": []
    }
  ]
}