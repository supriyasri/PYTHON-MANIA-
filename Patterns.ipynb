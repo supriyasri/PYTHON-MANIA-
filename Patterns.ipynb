{
  "nbformat": 4,
  "nbformat_minor": 0,
  "metadata": {
    "colab": {
      "name": "Patterns.ipynb",
      "version": "0.3.2",
      "provenance": [],
      "collapsed_sections": [],
      "include_colab_link": true
    },
    "kernelspec": {
      "name": "python3",
      "display_name": "Python 3"
    }
  },
  "cells": [
    {
      "cell_type": "markdown",
      "metadata": {
        "id": "view-in-github",
        "colab_type": "text"
      },
      "source": [
        "<a href=\"https://colab.research.google.com/github/supriyasri/PYTHON-MANIA-/blob/master/Patterns.ipynb\" target=\"_parent\"><img src=\"https://colab.research.google.com/assets/colab-badge.svg\" alt=\"Open In Colab\"/></a>"
      ]
    },
    {
      "cell_type": "code",
      "metadata": {
        "id": "L1tGGJbu0fKq",
        "colab_type": "code",
        "colab": {}
      },
      "source": [
        "import numpy as np "
      ],
      "execution_count": 0,
      "outputs": []
    },
    {
      "cell_type": "code",
      "metadata": {
        "id": "QdslBjPK27lS",
        "colab_type": "code",
        "outputId": "f1bf3a05-6a2d-4a39-a269-9bdfa9efc60f",
        "colab": {
          "base_uri": "https://localhost:8080/",
          "height": 372
        }
      },
      "source": [
        "for num in range(10):\n",
        "    for i in range(num):\n",
        "        print (num,end=\" \") #print number\n",
        "    \n",
        "    print(\"\\n\")             # new line after each row to display pattern correctly"
      ],
      "execution_count": 0,
      "outputs": [
        {
          "output_type": "stream",
          "text": [
            "\n",
            "\n",
            "1 \n",
            "\n",
            "2 2 \n",
            "\n",
            "3 3 3 \n",
            "\n",
            "4 4 4 4 \n",
            "\n",
            "5 5 5 5 5 \n",
            "\n",
            "6 6 6 6 6 6 \n",
            "\n",
            "7 7 7 7 7 7 7 \n",
            "\n",
            "8 8 8 8 8 8 8 8 \n",
            "\n",
            "9 9 9 9 9 9 9 9 9 \n",
            "\n"
          ],
          "name": "stdout"
        }
      ]
    },
    {
      "cell_type": "code",
      "metadata": {
        "id": "n7bdy9Af3ws8",
        "colab_type": "code",
        "outputId": "f74e9a3e-d80e-42b7-8c6a-49bca0efcefb",
        "colab": {
          "base_uri": "https://localhost:8080/",
          "height": 195
        }
      },
      "source": [
        "for i in range(5,0,-1):\n",
        "  print(i*\"*\",end=\" \")\n",
        "  print(\"\\n\")"
      ],
      "execution_count": 0,
      "outputs": [
        {
          "output_type": "stream",
          "text": [
            "***** \n",
            "\n",
            "**** \n",
            "\n",
            "*** \n",
            "\n",
            "** \n",
            "\n",
            "* \n",
            "\n"
          ],
          "name": "stdout"
        }
      ]
    },
    {
      "cell_type": "code",
      "metadata": {
        "id": "4OGlml697sXT",
        "colab_type": "code",
        "outputId": "e5266e51-70df-4449-fd7d-0aabdffe9273",
        "colab": {
          "base_uri": "https://localhost:8080/",
          "height": 106
        }
      },
      "source": [
        "for i in range(1,6):\n",
        "  print(i,i,i,i,i)                   #apply 1st n 2nd program strategies\n",
        "  "
      ],
      "execution_count": 0,
      "outputs": [
        {
          "output_type": "stream",
          "text": [
            "1 1 1 1 1\n",
            "2 2 2 2 2\n",
            "3 3 3 3 3\n",
            "4 4 4 4 4\n",
            "5 5 5 5 5\n"
          ],
          "name": "stdout"
        }
      ]
    },
    {
      "cell_type": "code",
      "metadata": {
        "id": "-fMUYCB_7iJs",
        "colab_type": "code",
        "outputId": "3f4fc6a4-996c-4472-c78c-ce22c00f24db",
        "colab": {
          "base_uri": "https://localhost:8080/",
          "height": 124
        }
      },
      "source": [
        "n=int(input(\"enter range\"))\n",
        "for i in range(1,n+1):\n",
        "  for j in range(1,n+1):\n",
        "    print(i,end=\"\")\n",
        "  print(\"\")"
      ],
      "execution_count": 0,
      "outputs": [
        {
          "output_type": "stream",
          "text": [
            "enter range5\n",
            "11111\n",
            "22222\n",
            "33333\n",
            "44444\n",
            "55555\n"
          ],
          "name": "stdout"
        }
      ]
    },
    {
      "cell_type": "code",
      "metadata": {
        "id": "nmxjufc19MRv",
        "colab_type": "code",
        "outputId": "028bc094-e36e-440a-8289-607c24648c52",
        "colab": {
          "base_uri": "https://localhost:8080/",
          "height": 199
        }
      },
      "source": [
        "\n",
        "for i in range(1,6):\n",
        "  \n",
        "  for j in range(i):\n",
        "    print(j+1,end=\" \")\n",
        "  print(\"\\n\")"
      ],
      "execution_count": 0,
      "outputs": [
        {
          "output_type": "stream",
          "text": [
            "1 \n",
            "\n",
            "1 2 \n",
            "\n",
            "1 2 3 \n",
            "\n",
            "1 2 3 4 \n",
            "\n",
            "1 2 3 4 5 \n",
            "\n"
          ],
          "name": "stdout"
        }
      ]
    },
    {
      "cell_type": "code",
      "metadata": {
        "id": "LB7sbM_5Bmig",
        "colab_type": "code",
        "outputId": "5f884426-f311-443a-eb84-876af5afe710",
        "colab": {
          "base_uri": "https://localhost:8080/",
          "height": 163
        }
      },
      "source": [
        "for i in range(1,5):\n",
        "  for j in range(i):\n",
        "    \n",
        "        print((j+i),end=\" \")\n",
        "     \n",
        "   \n",
        "    \n",
        "  print(\"\\n\")\n",
        "  "
      ],
      "execution_count": 0,
      "outputs": [
        {
          "output_type": "stream",
          "text": [
            "1 \n",
            "\n",
            "2 3 \n",
            "\n",
            "3 4 5 \n",
            "\n",
            "4 5 6 7 \n",
            "\n"
          ],
          "name": "stdout"
        }
      ]
    },
    {
      "cell_type": "code",
      "metadata": {
        "id": "sPWmVOGWKk02",
        "colab_type": "code",
        "outputId": "89cbc680-f344-4acd-a0e8-4941b26b95a0",
        "colab": {
          "base_uri": "https://localhost:8080/",
          "height": 35
        }
      },
      "source": [
        "a=range(1)\n",
        "a"
      ],
      "execution_count": 0,
      "outputs": [
        {
          "output_type": "execute_result",
          "data": {
            "text/plain": [
              "range(0, 1)"
            ]
          },
          "metadata": {
            "tags": []
          },
          "execution_count": 102
        }
      ]
    },
    {
      "cell_type": "code",
      "metadata": {
        "id": "TUSUGpIJOi73",
        "colab_type": "code",
        "outputId": "702f0833-7575-4680-d7ea-e1c4af988e65",
        "colab": {
          "base_uri": "https://localhost:8080/",
          "height": 199
        }
      },
      "source": [
        "a=1\n",
        "for i in range(0,5):\n",
        "  \n",
        "  for j in range(0,i):\n",
        "    \n",
        "        print(a,end=\" \")\n",
        "        a=a+1\n",
        "     \n",
        "  print(\"\\n\")\n",
        "  "
      ],
      "execution_count": 0,
      "outputs": [
        {
          "output_type": "stream",
          "text": [
            "\n",
            "\n",
            "1 \n",
            "\n",
            "2 3 \n",
            "\n",
            "4 5 6 \n",
            "\n",
            "7 8 9 10 \n",
            "\n"
          ],
          "name": "stdout"
        }
      ]
    },
    {
      "cell_type": "code",
      "metadata": {
        "id": "1IB_nSuRmIaR",
        "colab_type": "code",
        "outputId": "517ebfa3-0228-48f2-c773-4f6d8c1d204b",
        "colab": {
          "base_uri": "https://localhost:8080/",
          "height": 90
        }
      },
      "source": [
        " for a in range(7,-1,-2):\n",
        "    print (a)\n",
        "  for \n"
      ],
      "execution_count": 0,
      "outputs": [
        {
          "output_type": "stream",
          "text": [
            "7\n",
            "5\n",
            "3\n",
            "1\n"
          ],
          "name": "stdout"
        }
      ]
    },
    {
      "cell_type": "code",
      "metadata": {
        "id": "udEaJfdanDWi",
        "colab_type": "code",
        "outputId": "b858ed27-2725-410f-ce60-66553ccb827f",
        "colab": {
          "base_uri": "https://localhost:8080/",
          "height": 108
        }
      },
      "source": [
        "i=0\n",
        "j=4\n",
        "\n",
        "for row in range(5):\n",
        "  for col in range(5):\n",
        "    \n",
        "    if row==i and col==4:\n",
        "      print(\"*\",end=\"\")\n",
        "      row=row+1\n",
        "      col=col-1\n",
        "      \n",
        "    elif (row==col):\n",
        "      print(\"*\",end=\"\")\n",
        "      \n",
        "    else:\n",
        "      print(end=\"\")\n",
        "  print()\n",
        "     \n",
        "  \n",
        "  \n",
        "  \n",
        "  \n",
        "  \n",
        "  \n",
        "  \n",
        "  \n",
        "  \n",
        "  \n",
        "  "
      ],
      "execution_count": 0,
      "outputs": [
        {
          "output_type": "stream",
          "text": [
            "**\n",
            "*\n",
            "*\n",
            "*\n",
            "*\n"
          ],
          "name": "stdout"
        }
      ]
    },
    {
      "cell_type": "code",
      "metadata": {
        "id": "Bva0esGZSX60",
        "colab_type": "code",
        "outputId": "2bbe565c-81ad-401c-96f2-dc27fc7a20eb",
        "colab": {
          "base_uri": "https://localhost:8080/",
          "height": 108
        }
      },
      "source": [
        "for row in range(5):\n",
        "  for col in range(5):\n",
        "    if row==2 or col==2:\n",
        "      print(\"*\",end=\" \")\n",
        "    \n",
        "    elif (row==1 or row==3) and (col==1 or col==3):\n",
        "      print(\"*\",end=\" \")\n",
        "    else:\n",
        "      print(end=\" \")\n",
        "  print()\n",
        "    \n",
        "        "
      ],
      "execution_count": 0,
      "outputs": [
        {
          "output_type": "stream",
          "text": [
            "  *   \n",
            " * * *  \n",
            "* * * * * \n",
            " * * *  \n",
            "  *   \n"
          ],
          "name": "stdout"
        }
      ]
    },
    {
      "cell_type": "code",
      "metadata": {
        "id": "ZNG-BqbwcQSj",
        "colab_type": "code",
        "outputId": "523253f4-0c60-4036-c247-33ec147adbed",
        "colab": {
          "base_uri": "https://localhost:8080/",
          "height": 181
        }
      },
      "source": [
        "for row in range(9):\n",
        "  for col in range(9):                                                      # i need to generalize for any number and simplify the code \n",
        "    if row==4 or col==4:\n",
        "      print(\"*\",end=\" \")\n",
        "    \n",
        "    elif (row==1 or row==7) and (col==5 or col==3):\n",
        "      print(\"*\",end=\" \")\n",
        "    elif (row==2 or row==6) and (col==2 or col==3 or col==5 or col==6):\n",
        "      print(\"*\",end=\" \")\n",
        "    elif (row==3 or row==5) and (col in range(1,8)):\n",
        "      print(\"*\",end=\" \")\n",
        "      \n",
        "    elif (row==0 or row==8) and (col==4):\n",
        "      print(\"*\",end=\" \")\n",
        "      \n",
        "    else:\n",
        "      print(end=\" \")\n",
        "  print()"
      ],
      "execution_count": 0,
      "outputs": [
        {
          "output_type": "stream",
          "text": [
            "    *     \n",
            "   * * *    \n",
            "  * * * * *   \n",
            " * * * * * * *  \n",
            "* * * * * * * * * \n",
            " * * * * * * *  \n",
            "  * * * * *   \n",
            "   * * *    \n",
            "    *     \n"
          ],
          "name": "stdout"
        }
      ]
    },
    {
      "cell_type": "code",
      "metadata": {
        "id": "djcMH0hkD2hk",
        "colab_type": "code",
        "outputId": "b306f263-8629-4cae-fe7e-20a988a3a69b",
        "colab": {
          "base_uri": "https://localhost:8080/",
          "height": 284
        }
      },
      "source": [
        "n=int(input(\"enter the value of n\"))\n",
        "\n",
        "\n",
        "for i in range(n-1):\n",
        "   print((n-i)*\" \" + (2*i+1)*\"*\")\n",
        "for i in range(n-1,-1,-1):\n",
        "   print((n-i)*\" \" + (2*i+1)*\"*\")\n",
        "  \n",
        "    \n",
        "print()\n",
        "    \n",
        "  \n",
        "  "
      ],
      "execution_count": 0,
      "outputs": [
        {
          "output_type": "stream",
          "text": [
            "enter the value of n7\n",
            "       *\n",
            "      ***\n",
            "     *****\n",
            "    *******\n",
            "   *********\n",
            "  ***********\n",
            " *************\n",
            "  ***********\n",
            "   *********\n",
            "    *******\n",
            "     *****\n",
            "      ***\n",
            "       *\n",
            "\n"
          ],
          "name": "stdout"
        }
      ]
    },
    {
      "cell_type": "code",
      "metadata": {
        "id": "OvDgRzkT-SZb",
        "colab_type": "code",
        "colab": {}
      },
      "source": [
        ""
      ],
      "execution_count": 0,
      "outputs": []
    }
  ]
}