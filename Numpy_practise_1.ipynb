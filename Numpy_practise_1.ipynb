{
  "nbformat": 4,
  "nbformat_minor": 0,
  "metadata": {
    "colab": {
      "name": "Numpy practise 1.ipynb",
      "version": "0.3.2",
      "provenance": [],
      "collapsed_sections": [],
      "include_colab_link": true
    },
    "kernelspec": {
      "name": "python2",
      "display_name": "Python 2"
    }
  },
  "cells": [
    {
      "cell_type": "markdown",
      "metadata": {
        "id": "view-in-github",
        "colab_type": "text"
      },
      "source": [
        "<a href=\"https://colab.research.google.com/github/supriyasri/PYTHON-MANIA-/blob/master/Numpy_practise_1.ipynb\" target=\"_parent\"><img src=\"https://colab.research.google.com/assets/colab-badge.svg\" alt=\"Open In Colab\"/></a>"
      ]
    },
    {
      "cell_type": "code",
      "metadata": {
        "id": "26OoWa_5n_ci",
        "colab_type": "code",
        "colab": {}
      },
      "source": [
        "import numpy as np"
      ],
      "execution_count": 0,
      "outputs": []
    },
    {
      "cell_type": "code",
      "metadata": {
        "id": "DVewj_CAoSVz",
        "colab_type": "code",
        "outputId": "5bc7792e-2f54-45a1-c7c6-05fbb1e2dcd9",
        "colab": {
          "base_uri": "https://localhost:8080/",
          "height": 476
        }
      },
      "source": [
        "print(np.__version__)\n",
        "np.show_config()"
      ],
      "execution_count": 0,
      "outputs": [
        {
          "output_type": "stream",
          "text": [
            "1.16.3\n",
            "lapack_opt_info:\n",
            "    libraries = ['openblas', 'openblas']\n",
            "    library_dirs = ['/usr/local/lib']\n",
            "    define_macros = [('HAVE_CBLAS', None)]\n",
            "    language = c\n",
            "blas_opt_info:\n",
            "    libraries = ['openblas', 'openblas']\n",
            "    library_dirs = ['/usr/local/lib']\n",
            "    define_macros = [('HAVE_CBLAS', None)]\n",
            "    language = c\n",
            "openblas_info:\n",
            "    libraries = ['openblas', 'openblas']\n",
            "    library_dirs = ['/usr/local/lib']\n",
            "    define_macros = [('HAVE_CBLAS', None)]\n",
            "    language = c\n",
            "blis_info:\n",
            "  NOT AVAILABLE\n",
            "openblas_lapack_info:\n",
            "    libraries = ['openblas', 'openblas']\n",
            "    library_dirs = ['/usr/local/lib']\n",
            "    define_macros = [('HAVE_CBLAS', None)]\n",
            "    language = c\n",
            "lapack_mkl_info:\n",
            "  NOT AVAILABLE\n",
            "blas_mkl_info:\n",
            "  NOT AVAILABLE\n"
          ],
          "name": "stdout"
        }
      ]
    },
    {
      "cell_type": "code",
      "metadata": {
        "id": "5oK_PljOo1LL",
        "colab_type": "code",
        "outputId": "87a8256f-fe42-4109-af6a-0f26da3c7ca4",
        "colab": {
          "base_uri": "https://localhost:8080/",
          "height": 34
        }
      },
      "source": [
        "Z = np.zeros(10)\n",
        "print(Z)"
      ],
      "execution_count": 0,
      "outputs": [
        {
          "output_type": "stream",
          "text": [
            "[0. 0. 0. 0. 0. 0. 0. 0. 0. 0.]\n"
          ],
          "name": "stdout"
        }
      ]
    },
    {
      "cell_type": "code",
      "metadata": {
        "id": "ZZUefTqAvY2-",
        "colab_type": "code",
        "outputId": "1449694e-e5c3-42ac-d28d-3ff7941f41d4",
        "colab": {
          "base_uri": "https://localhost:8080/",
          "height": 51
        }
      },
      "source": [
        "b=np.arange(30)\n",
        "b"
      ],
      "execution_count": 0,
      "outputs": [
        {
          "output_type": "execute_result",
          "data": {
            "text/plain": [
              "array([ 0,  1,  2,  3,  4,  5,  6,  7,  8,  9, 10, 11, 12, 13, 14, 15, 16,\n",
              "       17, 18, 19, 20, 21, 22, 23, 24, 25, 26, 27, 28, 29])"
            ]
          },
          "metadata": {
            "tags": []
          },
          "execution_count": 26
        }
      ]
    },
    {
      "cell_type": "code",
      "metadata": {
        "id": "poDaHCBVvcfx",
        "colab_type": "code",
        "outputId": "8c2aae38-b14d-49ec-8953-1f51eb1fa865",
        "colab": {
          "base_uri": "https://localhost:8080/",
          "height": 34
        }
      },
      "source": [
        "b[::-5]           #start from index -1,stop at every index of five and goes on till the end of array"
      ],
      "execution_count": 0,
      "outputs": [
        {
          "output_type": "execute_result",
          "data": {
            "text/plain": [
              "array([29, 24, 19, 14,  9,  4])"
            ]
          },
          "metadata": {
            "tags": []
          },
          "execution_count": 27
        }
      ]
    },
    {
      "cell_type": "code",
      "metadata": {
        "id": "pgZT0P551vRO",
        "colab_type": "code",
        "outputId": "f081ed96-be89-4634-c4e5-ed00d1c10755",
        "colab": {
          "base_uri": "https://localhost:8080/",
          "height": 51
        }
      },
      "source": [
        "b"
      ],
      "execution_count": 0,
      "outputs": [
        {
          "output_type": "execute_result",
          "data": {
            "text/plain": [
              "array([ 0,  1,  2,  3,  4,  5,  6,  7,  8,  9, 10, 11, 12, 13, 14, 15, 16,\n",
              "       17, 18, 19, 20, 21, 22, 23, 24, 25, 26, 27, 28, 29])"
            ]
          },
          "metadata": {
            "tags": []
          },
          "execution_count": 28
        }
      ]
    },
    {
      "cell_type": "code",
      "metadata": {
        "id": "sAg3kGqV1xfd",
        "colab_type": "code",
        "outputId": "9b328b16-4cb1-4aea-806c-5739720f5fa2",
        "colab": {
          "base_uri": "https://localhost:8080/",
          "height": 51
        }
      },
      "source": [
        "b[::-1]               #start from index -1,stop at every index of one and goes on till the end of array"
      ],
      "execution_count": 0,
      "outputs": [
        {
          "output_type": "execute_result",
          "data": {
            "text/plain": [
              "array([29, 28, 27, 26, 25, 24, 23, 22, 21, 20, 19, 18, 17, 16, 15, 14, 13,\n",
              "       12, 11, 10,  9,  8,  7,  6,  5,  4,  3,  2,  1,  0])"
            ]
          },
          "metadata": {
            "tags": []
          },
          "execution_count": 29
        }
      ]
    },
    {
      "cell_type": "code",
      "metadata": {
        "id": "X4oPhzxP6VDS",
        "colab_type": "code",
        "outputId": "f83fbf39-21d3-4643-b793-29ecddc91999",
        "colab": {
          "base_uri": "https://localhost:8080/",
          "height": 68
        }
      },
      "source": [
        "sample=np.random.rand(3,5)               #shape argument is seperate one.  \n",
        "print(sample)"
      ],
      "execution_count": 0,
      "outputs": [
        {
          "output_type": "stream",
          "text": [
            "[[0.57727769 0.2513681  0.65662933 0.68092406 0.63756157]\n",
            " [0.35452609 0.95272935 0.19820389 0.23271298 0.5953399 ]\n",
            " [0.36487581 0.54141563 0.90649045 0.30298636 0.20684795]]\n"
          ],
          "name": "stdout"
        }
      ]
    },
    {
      "cell_type": "code",
      "metadata": {
        "id": "-mFYC7_rBAhW",
        "colab_type": "code",
        "outputId": "0e085609-d14c-4a89-dc85-477a5e4439db",
        "colab": {
          "base_uri": "https://localhost:8080/",
          "height": 197
        }
      },
      "source": [
        "a=np.random.random_sample(3,5)"
      ],
      "execution_count": 0,
      "outputs": [
        {
          "output_type": "error",
          "ename": "TypeError",
          "evalue": "ignored",
          "traceback": [
            "\u001b[0;31m\u001b[0m",
            "\u001b[0;31mTypeError\u001b[0mTraceback (most recent call last)",
            "\u001b[0;32m<ipython-input-21-9d2507adf479>\u001b[0m in \u001b[0;36m<module>\u001b[0;34m()\u001b[0m\n\u001b[0;32m----> 1\u001b[0;31m \u001b[0ma\u001b[0m\u001b[0;34m=\u001b[0m\u001b[0mnp\u001b[0m\u001b[0;34m.\u001b[0m\u001b[0mrandom\u001b[0m\u001b[0;34m.\u001b[0m\u001b[0mrandom_sample\u001b[0m\u001b[0;34m(\u001b[0m\u001b[0;36m3\u001b[0m\u001b[0;34m,\u001b[0m\u001b[0;36m5\u001b[0m\u001b[0;34m)\u001b[0m\u001b[0;34m\u001b[0m\u001b[0m\n\u001b[0m",
            "\u001b[0;32mmtrand.pyx\u001b[0m in \u001b[0;36mmtrand.RandomState.random_sample\u001b[0;34m()\u001b[0m\n",
            "\u001b[0;31mTypeError\u001b[0m: random_sample() takes at most 1 positional argument (2 given)"
          ]
        }
      ]
    },
    {
      "cell_type": "code",
      "metadata": {
        "id": "Fx0K5oZpBJUS",
        "colab_type": "code",
        "outputId": "fcdbb809-dd4d-4222-ff99-9fa2720d23a7",
        "colab": {
          "base_uri": "https://localhost:8080/",
          "height": 68
        }
      },
      "source": [
        "a=np.random.random_sample((3,5))         #shape argument is a single tuple   \n",
        "a"
      ],
      "execution_count": 0,
      "outputs": [
        {
          "output_type": "execute_result",
          "data": {
            "text/plain": [
              "array([[0.52428607, 0.86412263, 0.76175636, 0.18377275, 0.71648709],\n",
              "       [0.84483964, 0.77417314, 0.8478764 , 0.85596487, 0.99224541],\n",
              "       [0.53457397, 0.50770879, 0.06707065, 0.30435872, 0.04339156]])"
            ]
          },
          "metadata": {
            "tags": []
          },
          "execution_count": 25
        }
      ]
    },
    {
      "cell_type": "code",
      "metadata": {
        "id": "Bm_gtmZXFO8S",
        "colab_type": "code",
        "colab": {
          "base_uri": "https://localhost:8080/",
          "height": 68
        },
        "outputId": "8af2da47-85d0-439d-e92d-c98379a040c2"
      },
      "source": [
        "pyString = 'Android'\n",
        "\n",
        "# contains indices (0, 1, 2)\n",
        "# i.e. A, n and d\n",
        "sObject = slice(3)\n",
        "\n",
        "print(pyString[sObject])\n",
        "print(pyString[-1:-3])\n",
        "\n",
        "# contains indices fromonetofive Get substring from a given string using slice object\n",
        "# i.e. n, r \n",
        "sObject = slice(1, 5)\n",
        "\n",
        "print(pyString[sObject])"
      ],
      "execution_count": 15,
      "outputs": [
        {
          "output_type": "stream",
          "text": [
            "And\n",
            "\n",
            "ndro\n"
          ],
          "name": "stdout"
        }
      ]
    },
    {
      "cell_type": "code",
      "metadata": {
        "id": "kqkpX9kp4aG3",
        "colab_type": "code",
        "colab": {
          "base_uri": "https://localhost:8080/",
          "height": 197
        },
        "outputId": "6959b3ed-22c2-4ad5-a676-b7150d997b5f"
      },
      "source": [
        " pyString= 'supriya'\n",
        " sObject = slice(-5)\n",
        "print(pyString(sObject))         #try to use square brackets while defifnin sObject"
      ],
      "execution_count": 39,
      "outputs": [
        {
          "output_type": "error",
          "ename": "TypeError",
          "evalue": "ignored",
          "traceback": [
            "\u001b[0;31m\u001b[0m",
            "\u001b[0;31mTypeError\u001b[0mTraceback (most recent call last)",
            "\u001b[0;32m<ipython-input-39-cfabf2878035>\u001b[0m in \u001b[0;36m<module>\u001b[0;34m()\u001b[0m\n\u001b[1;32m      1\u001b[0m \u001b[0mpyString\u001b[0m\u001b[0;34m=\u001b[0m \u001b[0;34m'supriya'\u001b[0m\u001b[0;34m\u001b[0m\u001b[0m\n\u001b[1;32m      2\u001b[0m \u001b[0msObject\u001b[0m \u001b[0;34m=\u001b[0m \u001b[0mslice\u001b[0m\u001b[0;34m(\u001b[0m\u001b[0;34m-\u001b[0m\u001b[0;36m5\u001b[0m\u001b[0;34m)\u001b[0m\u001b[0;34m\u001b[0m\u001b[0m\n\u001b[0;32m----> 3\u001b[0;31m \u001b[0;32mprint\u001b[0m\u001b[0;34m(\u001b[0m\u001b[0mpyString\u001b[0m\u001b[0;34m(\u001b[0m\u001b[0msObject\u001b[0m\u001b[0;34m)\u001b[0m\u001b[0;34m)\u001b[0m\u001b[0;34m\u001b[0m\u001b[0m\n\u001b[0m",
            "\u001b[0;31mTypeError\u001b[0m: 'str' object is not callable"
          ]
        }
      ]
    },
    {
      "cell_type": "code",
      "metadata": {
        "id": "XPIDKFn3-GLg",
        "colab_type": "code",
        "colab": {
          "base_uri": "https://localhost:8080/",
          "height": 34
        },
        "outputId": "91673f4b-6f8d-4c1b-fa9a-8a6c9ae35061"
      },
      "source": [
        "pyString = 'Android'\n",
        "sObject=slice(-1,-2,-3)\n",
        "\n",
        "print(pyString[sObject])"
      ],
      "execution_count": 42,
      "outputs": [
        {
          "output_type": "stream",
          "text": [
            "d\n"
          ],
          "name": "stdout"
        }
      ]
    },
    {
      "cell_type": "code",
      "metadata": {
        "id": "TRk37zGZ-PFJ",
        "colab_type": "code",
        "colab": {
          "base_uri": "https://localhost:8080/",
          "height": 34
        },
        "outputId": "4cee9f42-df93-4d9a-c6a6-272c28e873af"
      },
      "source": [
        "pyString = 'Python'\n",
        "print(pyString[1:5:2])     #start at 1,stop at 5 and update for every 2"
      ],
      "execution_count": 26,
      "outputs": [
        {
          "output_type": "stream",
          "text": [
            "yh\n"
          ],
          "name": "stdout"
        }
      ]
    },
    {
      "cell_type": "code",
      "metadata": {
        "id": "pH93IKNR_arg",
        "colab_type": "code",
        "colab": {
          "base_uri": "https://localhost:8080/",
          "height": 51
        },
        "outputId": "86a931e9-0939-451d-9f7d-b1ec21ba91cc"
      },
      "source": [
        " pyString= 'supriya'    \n",
        " sObject = slice(-5)         #Slice(1) = indices (0)\t\n",
        "                             #Slice (2) = indices (0,1)\t\n",
        "                             #Slice (3) = indices (0,1,2)\t\n",
        "\t\n",
        "                             # In this case,\tSlice (-5) = slice (2) = indices (0,1)\t\n",
        "print(pyString[sObject])   \n",
        "\n",
        "pyString = 'Android'\n",
        "\n",
        "# contains indices (0, 1, 2)-startsat index 0 and ends at 2\n",
        "# i.e. A, n and d\n",
        "sObject = slice(3)          \n",
        "\n",
        "print(pyString[sObject])"
      ],
      "execution_count": 45,
      "outputs": [
        {
          "output_type": "stream",
          "text": [
            "su\n",
            "And\n"
          ],
          "name": "stdout"
        }
      ]
    },
    {
      "cell_type": "code",
      "metadata": {
        "id": "zKul96QnIgOk",
        "colab_type": "code",
        "colab": {
          "base_uri": "https://localhost:8080/",
          "height": 51
        },
        "outputId": "a65fdae6-0d55-4db5-c760-ac1df9a359e3"
      },
      "source": [
        "pyList= ['s','u','p','r','i','y','a']           #extract sublist and subtuplefromgiven list [] and tuple()\n",
        "pyTuple=('b','a','b','y','a','m','a','r')\n",
        "\n",
        "sobject=slice(-2)\n",
        "print(pyList[sobject])\n",
        "print(pyTuple[sobject])\n"
      ],
      "execution_count": 47,
      "outputs": [
        {
          "output_type": "stream",
          "text": [
            "['s', 'u', 'p', 'r', 'i']\n",
            "('b', 'a', 'b', 'y', 'a', 'm')\n"
          ],
          "name": "stdout"
        }
      ]
    }
  ]
}