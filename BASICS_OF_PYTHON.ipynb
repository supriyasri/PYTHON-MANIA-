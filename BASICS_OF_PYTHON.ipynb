{
  "nbformat": 4,
  "nbformat_minor": 0,
  "metadata": {
    "colab": {
      "name": "BASICS OF PYTHON.ipynb",
      "version": "0.3.2",
      "provenance": [],
      "include_colab_link": true
    },
    "language_info": {
      "codemirror_mode": {
        "name": "ipython",
        "version": 3
      },
      "file_extension": ".py",
      "mimetype": "text/x-python",
      "name": "python",
      "nbconvert_exporter": "python",
      "pygments_lexer": "ipython3",
      "version": "3.7.3"
    },
    "kernelspec": {
      "display_name": "Python 3",
      "language": "python",
      "name": "python3"
    }
  },
  "cells": [
    {
      "cell_type": "markdown",
      "metadata": {
        "id": "view-in-github",
        "colab_type": "text"
      },
      "source": [
        "<a href=\"https://colab.research.google.com/github/supriyasri/PYTHON-MANIA-/blob/master/BASICS_OF_PYTHON.ipynb\" target=\"_parent\"><img src=\"https://colab.research.google.com/assets/colab-badge.svg\" alt=\"Open In Colab\"/></a>"
      ]
    },
    {
      "cell_type": "code",
      "metadata": {
        "id": "1ijSxUTbIWJ4",
        "colab_type": "code",
        "outputId": "9d5a5cfc-d818-499b-96c8-f5ede2c93183",
        "colab": {}
      },
      "source": [
        "8%2"
      ],
      "execution_count": 0,
      "outputs": [
        {
          "output_type": "execute_result",
          "data": {
            "text/plain": [
              "0"
            ]
          },
          "metadata": {
            "tags": []
          },
          "execution_count": 2
        }
      ]
    },
    {
      "cell_type": "code",
      "metadata": {
        "id": "Deb2VjByI2mM",
        "colab_type": "code",
        "outputId": "a1e68b83-67b6-418d-cdbc-fcad405e0a3e",
        "colab": {
          "base_uri": "https://localhost:8080/",
          "height": 129
        }
      },
      "source": [
        "\"FIrst class .                                #follow some rules in python \n",
        "FIrstClass\""
      ],
      "execution_count": 0,
      "outputs": [
        {
          "output_type": "error",
          "ename": "SyntaxError",
          "evalue": "ignored",
          "traceback": [
            "\u001b[0;36m  File \u001b[0;32m\"<ipython-input-11-671143d9a004>\"\u001b[0;36m, line \u001b[0;32m1\u001b[0m\n\u001b[0;31m    \"FIrst class .\u001b[0m\n\u001b[0m                                                  ^\u001b[0m\n\u001b[0;31mSyntaxError\u001b[0m\u001b[0;31m:\u001b[0m EOL while scanning string literal\n"
          ]
        }
      ]
    },
    {
      "cell_type": "code",
      "metadata": {
        "id": "wDhb7lreIWKD",
        "colab_type": "code",
        "outputId": "ef689eb8-07c8-4c5c-89b1-b5fa84b62648",
        "colab": {}
      },
      "source": [
        "7%5"
      ],
      "execution_count": 0,
      "outputs": [
        {
          "output_type": "execute_result",
          "data": {
            "text/plain": [
              "2"
            ]
          },
          "metadata": {
            "tags": []
          },
          "execution_count": 4
        }
      ]
    },
    {
      "cell_type": "code",
      "metadata": {
        "id": "EkITTVvdIWKK",
        "colab_type": "code",
        "outputId": "b2571042-b753-4a9e-9943-2e82a9b25218",
        "colab": {}
      },
      "source": [
        "2**4"
      ],
      "execution_count": 0,
      "outputs": [
        {
          "output_type": "execute_result",
          "data": {
            "text/plain": [
              "16"
            ]
          },
          "metadata": {
            "tags": []
          },
          "execution_count": 6
        }
      ]
    },
    {
      "cell_type": "code",
      "metadata": {
        "id": "HJNTDHEeIWKQ",
        "colab_type": "code",
        "outputId": "3786724b-d301-4b35-8339-59da0244fc4d",
        "colab": {}
      },
      "source": [
        "5*8"
      ],
      "execution_count": 0,
      "outputs": [
        {
          "output_type": "execute_result",
          "data": {
            "text/plain": [
              "40"
            ]
          },
          "metadata": {
            "tags": []
          },
          "execution_count": 7
        }
      ]
    },
    {
      "cell_type": "code",
      "metadata": {
        "id": "R64o-u9tIWKW",
        "colab_type": "code",
        "outputId": "874d3441-08c2-4853-e579-07c42bd05f24",
        "colab": {
          "base_uri": "https://localhost:8080/",
          "height": 34
        }
      },
      "source": [
        "\"im a path finder01\"              #string always comes in single quote   "
      ],
      "execution_count": 0,
      "outputs": [
        {
          "output_type": "execute_result",
          "data": {
            "text/plain": [
              "'im a path finder01'"
            ]
          },
          "metadata": {
            "tags": []
          },
          "execution_count": 6
        }
      ]
    },
    {
      "cell_type": "code",
      "metadata": {
        "id": "IVUHhPIzIWKd",
        "colab_type": "code",
        "outputId": "e840e63f-320a-44e0-a4b5-6cbafa6f81fc",
        "colab": {}
      },
      "source": [
        "'im a great lady' #chec this peculiarity"
      ],
      "execution_count": 0,
      "outputs": [
        {
          "output_type": "execute_result",
          "data": {
            "text/plain": [
              "'im a great lady'"
            ]
          },
          "metadata": {
            "tags": []
          },
          "execution_count": 10
        }
      ]
    },
    {
      "cell_type": "code",
      "metadata": {
        "id": "odfRTdP-IWKm",
        "colab_type": "code",
        "outputId": "9ea7a896-5cea-4bd1-80a2-7f333cd37227",
        "colab": {}
      },
      "source": [
        "a=12\n",
        "b='sam'\n",
        "print('My number is: {c}, and my name is: {d}'.format(c=a,d=b))  #sounds great\n",
        "\n"
      ],
      "execution_count": 0,
      "outputs": [
        {
          "output_type": "stream",
          "text": [
            "My number is: 12, and my name is: sam\n"
          ],
          "name": "stdout"
        }
      ]
    },
    {
      "cell_type": "code",
      "metadata": {
        "id": "Y0YuCH-BIWKs",
        "colab_type": "code",
        "outputId": "5cfbb2a4-9422-4ebe-b516-ccc49f41bf54",
        "colab": {}
      },
      "source": [
        "[1,2,3]"
      ],
      "execution_count": 0,
      "outputs": [
        {
          "output_type": "execute_result",
          "data": {
            "text/plain": [
              "[1, 2, 3]"
            ]
          },
          "metadata": {
            "tags": []
          },
          "execution_count": 18
        }
      ]
    },
    {
      "cell_type": "code",
      "metadata": {
        "id": "b0FtFmOKIWK1",
        "colab_type": "code",
        "outputId": "351b5984-2601-40d4-b046-161f977a797e",
        "colab": {}
      },
      "source": [
        "[12,'hi',[1,2]]       #character need to be placed in quotes"
      ],
      "execution_count": 0,
      "outputs": [
        {
          "output_type": "execute_result",
          "data": {
            "text/plain": [
              "[12, 'hi', [1, 2]]"
            ]
          },
          "metadata": {
            "tags": []
          },
          "execution_count": 21
        }
      ]
    },
    {
      "cell_type": "code",
      "metadata": {
        "id": "qR0CFOMoIWK8",
        "colab_type": "code",
        "outputId": "41222bd2-5e98-4592-c385-b145079aac7e",
        "colab": {}
      },
      "source": [
        "fruits=['apple','banana','cherries','dragon','lemon','orange']\n",
        "fruits"
      ],
      "execution_count": 0,
      "outputs": [
        {
          "output_type": "execute_result",
          "data": {
            "text/plain": [
              "['apple', 'banana', 'cherries', 'dragon', 'lemon', 'orange']"
            ]
          },
          "metadata": {
            "tags": []
          },
          "execution_count": 24
        }
      ]
    },
    {
      "cell_type": "code",
      "metadata": {
        "id": "r5eOq8kOIWLB",
        "colab_type": "code",
        "outputId": "3874303a-8ab4-4409-b144-ff29eac12037",
        "colab": {}
      },
      "source": [
        "fruits.append('pineapple')\n",
        "fruits          #ran this fruits 4 times--so 4 times 'pineapple' appended"
      ],
      "execution_count": 0,
      "outputs": [
        {
          "output_type": "execute_result",
          "data": {
            "text/plain": [
              "['apple',\n",
              " 'banana',\n",
              " 'cherries',\n",
              " 'dragon',\n",
              " 'lemon',\n",
              " 'orange',\n",
              " 'pineapple',\n",
              " 'pineapple',\n",
              " 'pineapple',\n",
              " 'pineapple',\n",
              " 'pineapple']"
            ]
          },
          "metadata": {
            "tags": []
          },
          "execution_count": 31
        }
      ]
    },
    {
      "cell_type": "code",
      "metadata": {
        "id": "_e3mfXZhIWLF",
        "colab_type": "code",
        "outputId": "734975bf-eb38-45f8-eb82-0b9dfcb5f5fc",
        "colab": {}
      },
      "source": [
        "fruits[0]"
      ],
      "execution_count": 0,
      "outputs": [
        {
          "output_type": "execute_result",
          "data": {
            "text/plain": [
              "'apple'"
            ]
          },
          "metadata": {
            "tags": []
          },
          "execution_count": 34
        }
      ]
    },
    {
      "cell_type": "code",
      "metadata": {
        "id": "m6rTKUcDIWLL",
        "colab_type": "code",
        "outputId": "885a52f5-67cb-4568-9082-0c55010f27ef",
        "colab": {}
      },
      "source": [
        "fruits[:1]      # elements before index 1      in python index starts from ZERO\n"
      ],
      "execution_count": 0,
      "outputs": [
        {
          "output_type": "execute_result",
          "data": {
            "text/plain": [
              "['apple']"
            ]
          },
          "metadata": {
            "tags": []
          },
          "execution_count": 36
        }
      ]
    },
    {
      "cell_type": "code",
      "metadata": {
        "id": "nP2fZ9AsIWLR",
        "colab_type": "code",
        "outputId": "64489737-11b7-405e-e6d9-f63891e0050f",
        "colab": {}
      },
      "source": [
        "fruits[1:]     #elements after index 1 "
      ],
      "execution_count": 0,
      "outputs": [
        {
          "output_type": "execute_result",
          "data": {
            "text/plain": [
              "['banana',\n",
              " 'cherries',\n",
              " 'dragon',\n",
              " 'lemon',\n",
              " 'orange',\n",
              " 'pineapple',\n",
              " 'pineapple',\n",
              " 'pineapple',\n",
              " 'pineapple',\n",
              " 'pineapple']"
            ]
          },
          "metadata": {
            "tags": []
          },
          "execution_count": 38
        }
      ]
    },
    {
      "cell_type": "code",
      "metadata": {
        "id": "qFn-QaQWIWLX",
        "colab_type": "code",
        "outputId": "2146af3a-1b1b-4beb-badc-bb2033d21c6e",
        "colab": {
          "base_uri": "https://localhost:8080/",
          "height": 34
        }
      },
      "source": [
        "\"\"\"FIrst class\n",
        "/n firstclass\"\"\"                                #same line its  coming  but its new line    "
      ],
      "execution_count": 0,
      "outputs": [
        {
          "output_type": "execute_result",
          "data": {
            "text/plain": [
              "'FIrst class\\n/n firstclass'"
            ]
          },
          "metadata": {
            "tags": []
          },
          "execution_count": 18
        }
      ]
    }
  ]
}