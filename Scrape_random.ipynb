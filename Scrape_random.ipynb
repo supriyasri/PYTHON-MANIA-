{
 "cells": [
  {
   "cell_type": "code",
   "execution_count": 20,
   "metadata": {},
   "outputs": [],
   "source": [
    "import urllib3\n",
    "from bs4 import BeautifulSoup"
   ]
  },
  {
   "cell_type": "code",
   "execution_count": 21,
   "metadata": {},
   "outputs": [],
   "source": [
    "quote_page= \"<http://www.bu.edu/president/boston-university-facts-stats/>\""
   ]
  },
  {
   "cell_type": "code",
   "execution_count": 22,
   "metadata": {},
   "outputs": [],
   "source": [
    "import requests\n",
    "from urllib import request, response, error, parse\n",
    "from urllib.request import urlopen\n",
    "from bs4 import BeautifulSoup"
   ]
  },
  {
   "cell_type": "code",
   "execution_count": 23,
   "metadata": {},
   "outputs": [],
   "source": [
    "quote_page= \"<http://www.bu.edu/president/boston-university-facts-stats/>\"\n",
    "url = quote_page\n",
    "html = urlopen(url)\n",
    "soup = BeautifulSoup(html, \"lxml\") \n",
    "# here, the \"lxml\" is the html parser"
   ]
  },
  {
   "cell_type": "code",
   "execution_count": 24,
   "metadata": {},
   "outputs": [
    {
     "name": "stdout",
     "output_type": "stream",
     "text": [
      "BU Facts & Stats | Office of the President\n"
     ]
    }
   ],
   "source": [
    "html = urlopen(url)\n",
    "soup = BeautifulSoup(html, \"lxml\")\n",
    "title = soup.title \n",
    "titleText = title.get_text()      \n",
    "print(titleText)"
   ]
  },
  {
   "cell_type": "code",
   "execution_count": null,
   "metadata": {},
   "outputs": [],
   "source": [
    "# Step 1: Identifying ranges of tags you are scraping"
   ]
  },
  {
   "cell_type": "code",
   "execution_count": 25,
   "metadata": {},
   "outputs": [],
   "source": [
    "section = soup.find_all(\"<‘section’, class_=’facts-categories’>\")"
   ]
  },
  {
   "cell_type": "code",
   "execution_count": null,
   "metadata": {},
   "outputs": [],
   "source": [
    "# Step 2: Nesting all the loops\n",
    "#   We want to construct a nested loop for the web scraper to iterate \n",
    "# every single list that contains our desired data."
   ]
  },
  {
   "cell_type": "code",
   "execution_count": 26,
   "metadata": {},
   "outputs": [],
   "source": [
    "section = soup.find_all(\"<‘section’, class_=’facts-categories’>\")\n",
    "for elem in section:\n",
    "    wrappers = elem.find_all(\"<‘div’>\")\n",
    "    for x in wrappers: \n",
    "        title = x.find(\"<‘h5’>\").get_text()\n",
    "        print(title)\n",
    "        detail = x.find_all(\"<‘ul’>\")\n",
    "        for row in detail:\n",
    "            for l in row.find_all(\"<‘li’>\"):\n",
    "                text = l.find(\"<‘p’>\").get_text() \n",
    "                value = l.find(\"<‘span’, class_ = ‘value’>\").get_text()\n",
    "                print (text + value)\n",
    "            print(\"----------\")"
   ]
  },
  {
   "cell_type": "code",
   "execution_count": null,
   "metadata": {},
   "outputs": [],
   "source": []
  }
 ],
 "metadata": {
  "kernelspec": {
   "display_name": "Python 3",
   "language": "python",
   "name": "python3"
  },
  "language_info": {
   "codemirror_mode": {
    "name": "ipython",
    "version": 3
   },
   "file_extension": ".py",
   "mimetype": "text/x-python",
   "name": "python",
   "nbconvert_exporter": "python",
   "pygments_lexer": "ipython3",
   "version": "3.7.3"
  }
 },
 "nbformat": 4,
 "nbformat_minor": 2
}
